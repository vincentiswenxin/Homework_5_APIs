{
 "cells": [
  {
   "cell_type": "markdown",
   "metadata": {},
   "source": [
    "# Unit 5 - Financial Planning\n"
   ]
  },
  {
   "cell_type": "code",
   "execution_count": 2,
   "metadata": {},
   "outputs": [],
   "source": [
    "# Initial imports\r\n",
    "import os\r\n",
    "import requests\r\n",
    "import pandas as pd\r\n",
    "from dotenv import load_dotenv\r\n",
    "import alpaca_trade_api as tradeapi\r\n",
    "from MCForecastTools import MCSimulation\r\n",
    "\r\n",
    "%matplotlib inline"
   ]
  },
  {
   "cell_type": "code",
   "execution_count": 3,
   "metadata": {},
   "outputs": [
    {
     "data": {
      "text/plain": [
       "True"
      ]
     },
     "execution_count": 3,
     "metadata": {},
     "output_type": "execute_result"
    }
   ],
   "source": [
    "# Load .env enviroment variables\r\n",
    "load_dotenv()"
   ]
  },
  {
   "cell_type": "markdown",
   "metadata": {},
   "source": [
    "## Part 1 - Personal Finance Planner"
   ]
  },
  {
   "cell_type": "markdown",
   "metadata": {},
   "source": [
    "### Collect Crypto Prices Using the `requests` Library"
   ]
  },
  {
   "cell_type": "code",
   "execution_count": 4,
   "metadata": {},
   "outputs": [],
   "source": [
    "# Set current amount of crypto assets\r\n",
    "my_btc = 1.2    \r\n",
    "my_eth = 5.3"
   ]
  },
  {
   "cell_type": "code",
   "execution_count": 5,
   "metadata": {},
   "outputs": [],
   "source": [
    "# Crypto API URLs\r\n",
    "btc_url = \"https://api.alternative.me/v2/ticker/Bitcoin/?convert=CAD\"\r\n",
    "eth_url = \"https://api.alternative.me/v2/ticker/Ethereum/?convert=CAD\""
   ]
  },
  {
   "cell_type": "code",
   "execution_count": 6,
   "metadata": {},
   "outputs": [
    {
     "name": "stdout",
     "output_type": "stream",
     "text": [
      "The current value of your 1.2 BTC is $39272.40\n",
      "The current value of your 5.3 ETH is $10981.39\n"
     ]
    }
   ],
   "source": [
    "# Fetch current BTC price\r\n",
    "btc_url_response = requests.get(btc_url).json()\r\n",
    "btc_price = btc_url_response[\"data\"][\"1\"][\"quotes\"][\"USD\"][\"price\"]\r\n",
    "\r\n",
    "# Fetch current ETH price\r\n",
    "eth_url_response = requests.get(eth_url).json()\r\n",
    "eth_price = eth_url_response[\"data\"][\"1027\"][\"quotes\"][\"USD\"][\"price\"]\r\n",
    "\r\n",
    "# Compute current value of my crpto\r\n",
    "my_btc_value = my_btc * btc_price\r\n",
    "my_eth_value = my_eth * eth_price\r\n",
    "\r\n",
    "# Print current crypto wallet balance\r\n",
    "print(f\"The current value of your {my_btc} BTC is ${my_btc_value:0.2f}\")\r\n",
    "print(f\"The current value of your {my_eth} ETH is ${my_eth_value:0.2f}\")"
   ]
  },
  {
   "cell_type": "markdown",
   "metadata": {},
   "source": [
    "### Collect Investments Data Using Alpaca: `SPY` (stocks) and `AGG` (bonds)"
   ]
  },
  {
   "cell_type": "code",
   "execution_count": 7,
   "metadata": {},
   "outputs": [],
   "source": [
    "# Current amount of shares\r\n",
    "my_agg = 200\r\n",
    "my_spy = 50"
   ]
  },
  {
   "cell_type": "code",
   "execution_count": 8,
   "metadata": {},
   "outputs": [],
   "source": [
    "# Set Alpaca API key and secret\r\n",
    "alpaca_api_key = os.getenv(\"ALPACA_API_KEY\")\r\n",
    "alpaca_secret_key = os.getenv(\"ALPACA_SECRET_KEY\")\r\n",
    "\r\n",
    "# Create the Alpaca API object\r\n",
    "alpaca = tradeapi.REST(alpaca_api_key, alpaca_secret_key, api_version = \"v2\")"
   ]
  },
  {
   "cell_type": "code",
   "execution_count": 9,
   "metadata": {},
   "outputs": [
    {
     "data": {
      "text/html": [
       "<div>\n",
       "<style scoped>\n",
       "    .dataframe tbody tr th:only-of-type {\n",
       "        vertical-align: middle;\n",
       "    }\n",
       "\n",
       "    .dataframe tbody tr th {\n",
       "        vertical-align: top;\n",
       "    }\n",
       "\n",
       "    .dataframe thead tr th {\n",
       "        text-align: left;\n",
       "    }\n",
       "\n",
       "    .dataframe thead tr:last-of-type th {\n",
       "        text-align: right;\n",
       "    }\n",
       "</style>\n",
       "<table border=\"1\" class=\"dataframe\">\n",
       "  <thead>\n",
       "    <tr>\n",
       "      <th></th>\n",
       "      <th colspan=\"5\" halign=\"left\">AGG</th>\n",
       "      <th colspan=\"5\" halign=\"left\">SPY</th>\n",
       "    </tr>\n",
       "    <tr>\n",
       "      <th></th>\n",
       "      <th>open</th>\n",
       "      <th>high</th>\n",
       "      <th>low</th>\n",
       "      <th>close</th>\n",
       "      <th>volume</th>\n",
       "      <th>open</th>\n",
       "      <th>high</th>\n",
       "      <th>low</th>\n",
       "      <th>close</th>\n",
       "      <th>volume</th>\n",
       "    </tr>\n",
       "    <tr>\n",
       "      <th>time</th>\n",
       "      <th></th>\n",
       "      <th></th>\n",
       "      <th></th>\n",
       "      <th></th>\n",
       "      <th></th>\n",
       "      <th></th>\n",
       "      <th></th>\n",
       "      <th></th>\n",
       "      <th></th>\n",
       "      <th></th>\n",
       "    </tr>\n",
       "  </thead>\n",
       "  <tbody>\n",
       "    <tr>\n",
       "      <th>2021-06-22 00:00:00-04:00</th>\n",
       "      <td>114.830</td>\n",
       "      <td>115.1400</td>\n",
       "      <td>114.830</td>\n",
       "      <td>115.11</td>\n",
       "      <td>5299846</td>\n",
       "      <td>420.85</td>\n",
       "      <td>424.0000</td>\n",
       "      <td>420.08</td>\n",
       "      <td>423.06</td>\n",
       "      <td>50857233</td>\n",
       "    </tr>\n",
       "    <tr>\n",
       "      <th>2021-06-21 00:00:00-04:00</th>\n",
       "      <td>115.060</td>\n",
       "      <td>115.1200</td>\n",
       "      <td>114.921</td>\n",
       "      <td>114.96</td>\n",
       "      <td>4934966</td>\n",
       "      <td>416.80</td>\n",
       "      <td>421.0600</td>\n",
       "      <td>415.93</td>\n",
       "      <td>420.85</td>\n",
       "      <td>63727942</td>\n",
       "    </tr>\n",
       "    <tr>\n",
       "      <th>2021-06-18 00:00:00-04:00</th>\n",
       "      <td>115.050</td>\n",
       "      <td>115.3900</td>\n",
       "      <td>114.910</td>\n",
       "      <td>115.29</td>\n",
       "      <td>5438261</td>\n",
       "      <td>417.08</td>\n",
       "      <td>417.8281</td>\n",
       "      <td>414.70</td>\n",
       "      <td>415.01</td>\n",
       "      <td>92753385</td>\n",
       "    </tr>\n",
       "    <tr>\n",
       "      <th>2021-06-17 00:00:00-04:00</th>\n",
       "      <td>114.792</td>\n",
       "      <td>115.2500</td>\n",
       "      <td>114.785</td>\n",
       "      <td>114.99</td>\n",
       "      <td>7417691</td>\n",
       "      <td>421.67</td>\n",
       "      <td>423.0200</td>\n",
       "      <td>419.32</td>\n",
       "      <td>421.97</td>\n",
       "      <td>71991686</td>\n",
       "    </tr>\n",
       "    <tr>\n",
       "      <th>2021-06-16 00:00:00-04:00</th>\n",
       "      <td>115.070</td>\n",
       "      <td>115.1285</td>\n",
       "      <td>114.510</td>\n",
       "      <td>114.63</td>\n",
       "      <td>7527672</td>\n",
       "      <td>424.63</td>\n",
       "      <td>424.8700</td>\n",
       "      <td>419.92</td>\n",
       "      <td>422.12</td>\n",
       "      <td>73638324</td>\n",
       "    </tr>\n",
       "  </tbody>\n",
       "</table>\n",
       "</div>"
      ],
      "text/plain": [
       "                               AGG                                      \\\n",
       "                              open      high      low   close   volume   \n",
       "time                                                                     \n",
       "2021-06-22 00:00:00-04:00  114.830  115.1400  114.830  115.11  5299846   \n",
       "2021-06-21 00:00:00-04:00  115.060  115.1200  114.921  114.96  4934966   \n",
       "2021-06-18 00:00:00-04:00  115.050  115.3900  114.910  115.29  5438261   \n",
       "2021-06-17 00:00:00-04:00  114.792  115.2500  114.785  114.99  7417691   \n",
       "2021-06-16 00:00:00-04:00  115.070  115.1285  114.510  114.63  7527672   \n",
       "\n",
       "                              SPY                                      \n",
       "                             open      high     low   close    volume  \n",
       "time                                                                   \n",
       "2021-06-22 00:00:00-04:00  420.85  424.0000  420.08  423.06  50857233  \n",
       "2021-06-21 00:00:00-04:00  416.80  421.0600  415.93  420.85  63727942  \n",
       "2021-06-18 00:00:00-04:00  417.08  417.8281  414.70  415.01  92753385  \n",
       "2021-06-17 00:00:00-04:00  421.67  423.0200  419.32  421.97  71991686  \n",
       "2021-06-16 00:00:00-04:00  424.63  424.8700  419.92  422.12  73638324  "
      ]
     },
     "execution_count": 9,
     "metadata": {},
     "output_type": "execute_result"
    }
   ],
   "source": [
    "# Format current date as ISO format\r\n",
    "today = pd.Timestamp(\"2021-06-22\", tz=\"America/New_York\").isoformat()\r\n",
    "\r\n",
    "# Set the tickers\r\n",
    "tickers = [\"AGG\", \"SPY\"]\r\n",
    "\r\n",
    "# Set timeframe to '1D' for Alpaca API\r\n",
    "timeframe = \"1D\"\r\n",
    "\r\n",
    "# Get current closing prices for SPY and AGG for the past 800 days\r\n",
    "current_portfoilo = alpaca.get_barset(tickers, timeframe, end=today, limit=800).df\r\n",
    "current_portfoilo = current_portfoilo.sort_index(ascending=False)\r\n",
    "\r\n",
    "# Preview DataFrame\r\n",
    "current_portfoilo.head(5)\r\n",
    "#current_portfoilo.tail(5)"
   ]
  },
  {
   "cell_type": "code",
   "execution_count": 10,
   "metadata": {},
   "outputs": [
    {
     "name": "stdout",
     "output_type": "stream",
     "text": [
      "Current AGG closing price: $115.11\n",
      "Current SPY closing price: $423.06\n"
     ]
    }
   ],
   "source": [
    "# Pick AGG and SPY close prices\r\n",
    "agg_close_price = current_portfoilo[\"AGG\"][\"close\"][0]\r\n",
    "spy_close_price = current_portfoilo[\"SPY\"][\"close\"][0]\r\n",
    "\r\n",
    "# Print AGG and SPY close prices\r\n",
    "print(f\"Current AGG closing price: ${agg_close_price}\")\r\n",
    "print(f\"Current SPY closing price: ${spy_close_price}\")"
   ]
  },
  {
   "cell_type": "code",
   "execution_count": 11,
   "metadata": {},
   "outputs": [
    {
     "name": "stdout",
     "output_type": "stream",
     "text": [
      "The current value of your 50 SPY shares is $21153.00\n",
      "The current value of your 200 AGG shares is $23022.00\n"
     ]
    }
   ],
   "source": [
    "# Compute the current value of shares\r\n",
    "my_agg_value = my_agg * agg_close_price\r\n",
    "my_spy_value = my_spy * spy_close_price\r\n",
    "\r\n",
    "# Print current value of share\r\n",
    "print(f\"The current value of your {my_spy} SPY shares is ${my_spy_value:0.2f}\")\r\n",
    "print(f\"The current value of your {my_agg} AGG shares is ${my_agg_value:0.2f}\")"
   ]
  },
  {
   "cell_type": "markdown",
   "metadata": {},
   "source": [
    "### Savings Health Analysis"
   ]
  },
  {
   "cell_type": "code",
   "execution_count": 12,
   "metadata": {},
   "outputs": [
    {
     "data": {
      "text/html": [
       "<div>\n",
       "<style scoped>\n",
       "    .dataframe tbody tr th:only-of-type {\n",
       "        vertical-align: middle;\n",
       "    }\n",
       "\n",
       "    .dataframe tbody tr th {\n",
       "        vertical-align: top;\n",
       "    }\n",
       "\n",
       "    .dataframe thead th {\n",
       "        text-align: right;\n",
       "    }\n",
       "</style>\n",
       "<table border=\"1\" class=\"dataframe\">\n",
       "  <thead>\n",
       "    <tr style=\"text-align: right;\">\n",
       "      <th></th>\n",
       "      <th>amount</th>\n",
       "    </tr>\n",
       "  </thead>\n",
       "  <tbody>\n",
       "    <tr>\n",
       "      <th>crypto</th>\n",
       "      <td>50253.788</td>\n",
       "    </tr>\n",
       "    <tr>\n",
       "      <th>shares</th>\n",
       "      <td>44175.000</td>\n",
       "    </tr>\n",
       "  </tbody>\n",
       "</table>\n",
       "</div>"
      ],
      "text/plain": [
       "           amount\n",
       "crypto  50253.788\n",
       "shares  44175.000"
      ]
     },
     "metadata": {},
     "output_type": "display_data"
    }
   ],
   "source": [
    "# Set monthly household income\r\n",
    "monthly_income = 12000\r\n",
    "\r\n",
    "# Create savings DataFrame\r\n",
    "# calculate the total crypto and share values\r\n",
    "total_crypto = my_btc_value + my_eth_value\r\n",
    "total_shares = my_agg_value + my_spy_value\r\n",
    "savings = {\"amount\" : [total_crypto,total_shares]}\r\n",
    "# Create dataframe df_savings\r\n",
    "df_savings = pd.DataFrame(savings, index=[\"crypto\", \"shares\"])\r\n",
    "# Display savings DataFrame\r\n",
    "display(df_savings)"
   ]
  },
  {
   "cell_type": "code",
   "execution_count": 13,
   "metadata": {},
   "outputs": [
    {
     "data": {
      "text/plain": [
       "<AxesSubplot:title={'center':'Composition of Personal Savings'}, ylabel='amount'>"
      ]
     },
     "execution_count": 13,
     "metadata": {},
     "output_type": "execute_result"
    },
    {
     "data": {
      "image/png": "[encoded data removed]",
      "text/plain": [
       "<Figure size 432x288 with 1 Axes>"
      ]
     },
     "metadata": {},
     "output_type": "display_data"
    }
   ],
   "source": [
    "# Plot savings pie chart\r\n",
    "\r\n",
    "df_savings.plot.pie(y=\"amount\", title=\"Composition of Personal Savings\")"
   ]
  },
  {
   "cell_type": "code",
   "execution_count": 31,
   "metadata": {},
   "outputs": [
    {
     "ename": "SyntaxError",
     "evalue": "invalid syntax (<ipython-input-31-e8cb0da6c142>, line 7)",
     "output_type": "error",
     "traceback": [
      "\u001b[1;36m  File \u001b[1;32m\"<ipython-input-31-e8cb0da6c142>\"\u001b[1;36m, line \u001b[1;32m7\u001b[0m\n\u001b[1;33m    total savingares\u001b[0m\n\u001b[1;37m                   ^\u001b[0m\n\u001b[1;31mSyntaxError\u001b[0m\u001b[1;31m:\u001b[0m invalid syntax\n"
     ]
    }
   ],
   "source": [
    "# Set ideal emergency fund\r\n",
    "emergency_fund = monthly_income * 3\r\n",
    "\r\n",
    "# Calculate total amount of savings\r\n",
    "total_savings = total_crypto + total_sh\n",
    "\n",
    "total savingares\r\n",
    "\r\n",
    "# Validate saving health\r\n",
    "if emergency_fund < total_savings:\r\n",
    "        print(\" Congratulations! You have enough money in your emergency fund.\")\r\n",
    "elif emergency_fund == total_savings:\r\n",
    "        print(\" Congratulations! You have reached this financial goal\")\r\n",
    "else:\r\n",
    "        print(f\"Oh No! You are {emergency_fund - total_savings} dollars away from reaching the goal\")"
   ]
  },
  {
   "cell_type": "markdown",
   "metadata": {},
   "source": [
    "## Part 2 - Retirement Planning\n",
    "\n",
    "### Monte Carlo Simulation"
   ]
  },
  {
   "cell_type": "code",
   "execution_count": 15,
   "metadata": {},
   "outputs": [],
   "source": [
    "# Set start and end dates of five years back from today.\r\n",
    "# Sample results may vary from the solution based on the time frame chosen\r\n",
    "start_date = pd.Timestamp('2016-06-01', tz='America/New_York').isoformat()\r\n",
    "end_date = pd.Timestamp('2021-06-01', tz='America/New_York').isoformat()"
   ]
  },
  {
   "cell_type": "code",
   "execution_count": 16,
   "metadata": {},
   "outputs": [
    {
     "data": {
      "text/plain": [
       "['AGG', 'SPY']"
      ]
     },
     "metadata": {},
     "output_type": "display_data"
    },
    {
     "data": {
      "text/html": [
       "<div>\n",
       "<style scoped>\n",
       "    .dataframe tbody tr th:only-of-type {\n",
       "        vertical-align: middle;\n",
       "    }\n",
       "\n",
       "    .dataframe tbody tr th {\n",
       "        vertical-align: top;\n",
       "    }\n",
       "\n",
       "    .dataframe thead tr th {\n",
       "        text-align: left;\n",
       "    }\n",
       "\n",
       "    .dataframe thead tr:last-of-type th {\n",
       "        text-align: right;\n",
       "    }\n",
       "</style>\n",
       "<table border=\"1\" class=\"dataframe\">\n",
       "  <thead>\n",
       "    <tr>\n",
       "      <th></th>\n",
       "      <th colspan=\"5\" halign=\"left\">AGG</th>\n",
       "      <th colspan=\"5\" halign=\"left\">SPY</th>\n",
       "    </tr>\n",
       "    <tr>\n",
       "      <th></th>\n",
       "      <th>open</th>\n",
       "      <th>high</th>\n",
       "      <th>low</th>\n",
       "      <th>close</th>\n",
       "      <th>volume</th>\n",
       "      <th>open</th>\n",
       "      <th>high</th>\n",
       "      <th>low</th>\n",
       "      <th>close</th>\n",
       "      <th>volume</th>\n",
       "    </tr>\n",
       "    <tr>\n",
       "      <th>time</th>\n",
       "      <th></th>\n",
       "      <th></th>\n",
       "      <th></th>\n",
       "      <th></th>\n",
       "      <th></th>\n",
       "      <th></th>\n",
       "      <th></th>\n",
       "      <th></th>\n",
       "      <th></th>\n",
       "      <th></th>\n",
       "    </tr>\n",
       "  </thead>\n",
       "  <tbody>\n",
       "    <tr>\n",
       "      <th>2021-01-07 00:00:00-05:00</th>\n",
       "      <td>117.13</td>\n",
       "      <td>117.2600</td>\n",
       "      <td>117.0667</td>\n",
       "      <td>117.21</td>\n",
       "      <td>4949593</td>\n",
       "      <td>376.10</td>\n",
       "      <td>379.90</td>\n",
       "      <td>375.9100</td>\n",
       "      <td>379.06</td>\n",
       "      <td>58862006</td>\n",
       "    </tr>\n",
       "    <tr>\n",
       "      <th>2021-01-08 00:00:00-05:00</th>\n",
       "      <td>117.18</td>\n",
       "      <td>117.3428</td>\n",
       "      <td>116.9800</td>\n",
       "      <td>117.09</td>\n",
       "      <td>5580443</td>\n",
       "      <td>380.59</td>\n",
       "      <td>381.49</td>\n",
       "      <td>377.1000</td>\n",
       "      <td>381.24</td>\n",
       "      <td>60275466</td>\n",
       "    </tr>\n",
       "    <tr>\n",
       "      <th>2021-01-11 00:00:00-05:00</th>\n",
       "      <td>117.02</td>\n",
       "      <td>117.0500</td>\n",
       "      <td>116.8900</td>\n",
       "      <td>116.89</td>\n",
       "      <td>5047096</td>\n",
       "      <td>377.85</td>\n",
       "      <td>380.58</td>\n",
       "      <td>377.7189</td>\n",
       "      <td>378.74</td>\n",
       "      <td>44814805</td>\n",
       "    </tr>\n",
       "    <tr>\n",
       "      <th>2021-01-12 00:00:00-05:00</th>\n",
       "      <td>116.82</td>\n",
       "      <td>116.9900</td>\n",
       "      <td>116.6800</td>\n",
       "      <td>116.98</td>\n",
       "      <td>5103382</td>\n",
       "      <td>378.89</td>\n",
       "      <td>379.86</td>\n",
       "      <td>376.3600</td>\n",
       "      <td>378.81</td>\n",
       "      <td>45364896</td>\n",
       "    </tr>\n",
       "    <tr>\n",
       "      <th>2021-01-13 00:00:00-05:00</th>\n",
       "      <td>117.63</td>\n",
       "      <td>117.6300</td>\n",
       "      <td>117.0800</td>\n",
       "      <td>117.36</td>\n",
       "      <td>5686592</td>\n",
       "      <td>378.69</td>\n",
       "      <td>380.86</td>\n",
       "      <td>377.8500</td>\n",
       "      <td>379.76</td>\n",
       "      <td>38355050</td>\n",
       "    </tr>\n",
       "  </tbody>\n",
       "</table>\n",
       "</div>"
      ],
      "text/plain": [
       "                              AGG                                       \\\n",
       "                             open      high       low   close   volume   \n",
       "time                                                                     \n",
       "2021-01-07 00:00:00-05:00  117.13  117.2600  117.0667  117.21  4949593   \n",
       "2021-01-08 00:00:00-05:00  117.18  117.3428  116.9800  117.09  5580443   \n",
       "2021-01-11 00:00:00-05:00  117.02  117.0500  116.8900  116.89  5047096   \n",
       "2021-01-12 00:00:00-05:00  116.82  116.9900  116.6800  116.98  5103382   \n",
       "2021-01-13 00:00:00-05:00  117.63  117.6300  117.0800  117.36  5686592   \n",
       "\n",
       "                              SPY                                      \n",
       "                             open    high       low   close    volume  \n",
       "time                                                                   \n",
       "2021-01-07 00:00:00-05:00  376.10  379.90  375.9100  379.06  58862006  \n",
       "2021-01-08 00:00:00-05:00  380.59  381.49  377.1000  381.24  60275466  \n",
       "2021-01-11 00:00:00-05:00  377.85  380.58  377.7189  378.74  44814805  \n",
       "2021-01-12 00:00:00-05:00  378.89  379.86  376.3600  378.81  45364896  \n",
       "2021-01-13 00:00:00-05:00  378.69  380.86  377.8500  379.76  38355050  "
      ]
     },
     "execution_count": 16,
     "metadata": {},
     "output_type": "execute_result"
    }
   ],
   "source": [
    "# Get 5 years' worth of historical data for SPY and AGG\r\n",
    "display(tickers)\r\n",
    "df_stock_data = alpaca.get_barset(tickers, timeframe, start=start_date, end=end_date).df\r\n",
    "\r\n",
    "# Display sample data\r\n",
    "df_stock_data.head()"
   ]
  },
  {
   "cell_type": "code",
   "execution_count": 17,
   "metadata": {},
   "outputs": [],
   "source": [
    "# Configuring a Monte Carlo simulation to forecast 30 years cumulative returns\r\n",
    "montecarlo_30 = MCSimulation(portfolio_data = df_stock_data, weights = [.40,.60], num_simulation = 500, num_trading_days = 252*30)"
   ]
  },
  {
   "cell_type": "code",
   "execution_count": 18,
   "metadata": {},
   "outputs": [
    {
     "data": {
      "text/html": [
       "<div>\n",
       "<style scoped>\n",
       "    .dataframe tbody tr th:only-of-type {\n",
       "        vertical-align: middle;\n",
       "    }\n",
       "\n",
       "    .dataframe tbody tr th {\n",
       "        vertical-align: top;\n",
       "    }\n",
       "\n",
       "    .dataframe thead tr th {\n",
       "        text-align: left;\n",
       "    }\n",
       "\n",
       "    .dataframe thead tr:last-of-type th {\n",
       "        text-align: right;\n",
       "    }\n",
       "</style>\n",
       "<table border=\"1\" class=\"dataframe\">\n",
       "  <thead>\n",
       "    <tr>\n",
       "      <th></th>\n",
       "      <th colspan=\"6\" halign=\"left\">AGG</th>\n",
       "      <th colspan=\"6\" halign=\"left\">SPY</th>\n",
       "    </tr>\n",
       "    <tr>\n",
       "      <th></th>\n",
       "      <th>open</th>\n",
       "      <th>high</th>\n",
       "      <th>low</th>\n",
       "      <th>close</th>\n",
       "      <th>volume</th>\n",
       "      <th>daily_return</th>\n",
       "      <th>open</th>\n",
       "      <th>high</th>\n",
       "      <th>low</th>\n",
       "      <th>close</th>\n",
       "      <th>volume</th>\n",
       "      <th>daily_return</th>\n",
       "    </tr>\n",
       "    <tr>\n",
       "      <th>time</th>\n",
       "      <th></th>\n",
       "      <th></th>\n",
       "      <th></th>\n",
       "      <th></th>\n",
       "      <th></th>\n",
       "      <th></th>\n",
       "      <th></th>\n",
       "      <th></th>\n",
       "      <th></th>\n",
       "      <th></th>\n",
       "      <th></th>\n",
       "      <th></th>\n",
       "    </tr>\n",
       "  </thead>\n",
       "  <tbody>\n",
       "    <tr>\n",
       "      <th>2021-01-07 00:00:00-05:00</th>\n",
       "      <td>117.13</td>\n",
       "      <td>117.2600</td>\n",
       "      <td>117.0667</td>\n",
       "      <td>117.21</td>\n",
       "      <td>4949593</td>\n",
       "      <td>NaN</td>\n",
       "      <td>376.10</td>\n",
       "      <td>379.90</td>\n",
       "      <td>375.9100</td>\n",
       "      <td>379.06</td>\n",
       "      <td>58862006</td>\n",
       "      <td>NaN</td>\n",
       "    </tr>\n",
       "    <tr>\n",
       "      <th>2021-01-08 00:00:00-05:00</th>\n",
       "      <td>117.18</td>\n",
       "      <td>117.3428</td>\n",
       "      <td>116.9800</td>\n",
       "      <td>117.09</td>\n",
       "      <td>5580443</td>\n",
       "      <td>-0.001024</td>\n",
       "      <td>380.59</td>\n",
       "      <td>381.49</td>\n",
       "      <td>377.1000</td>\n",
       "      <td>381.24</td>\n",
       "      <td>60275466</td>\n",
       "      <td>0.005751</td>\n",
       "    </tr>\n",
       "    <tr>\n",
       "      <th>2021-01-11 00:00:00-05:00</th>\n",
       "      <td>117.02</td>\n",
       "      <td>117.0500</td>\n",
       "      <td>116.8900</td>\n",
       "      <td>116.89</td>\n",
       "      <td>5047096</td>\n",
       "      <td>-0.001708</td>\n",
       "      <td>377.85</td>\n",
       "      <td>380.58</td>\n",
       "      <td>377.7189</td>\n",
       "      <td>378.74</td>\n",
       "      <td>44814805</td>\n",
       "      <td>-0.006558</td>\n",
       "    </tr>\n",
       "    <tr>\n",
       "      <th>2021-01-12 00:00:00-05:00</th>\n",
       "      <td>116.82</td>\n",
       "      <td>116.9900</td>\n",
       "      <td>116.6800</td>\n",
       "      <td>116.98</td>\n",
       "      <td>5103382</td>\n",
       "      <td>0.000770</td>\n",
       "      <td>378.89</td>\n",
       "      <td>379.86</td>\n",
       "      <td>376.3600</td>\n",
       "      <td>378.81</td>\n",
       "      <td>45364896</td>\n",
       "      <td>0.000185</td>\n",
       "    </tr>\n",
       "    <tr>\n",
       "      <th>2021-01-13 00:00:00-05:00</th>\n",
       "      <td>117.63</td>\n",
       "      <td>117.6300</td>\n",
       "      <td>117.0800</td>\n",
       "      <td>117.36</td>\n",
       "      <td>5686592</td>\n",
       "      <td>0.003248</td>\n",
       "      <td>378.69</td>\n",
       "      <td>380.86</td>\n",
       "      <td>377.8500</td>\n",
       "      <td>379.76</td>\n",
       "      <td>38355050</td>\n",
       "      <td>0.002508</td>\n",
       "    </tr>\n",
       "  </tbody>\n",
       "</table>\n",
       "</div>"
      ],
      "text/plain": [
       "                              AGG                                       \\\n",
       "                             open      high       low   close   volume   \n",
       "time                                                                     \n",
       "2021-01-07 00:00:00-05:00  117.13  117.2600  117.0667  117.21  4949593   \n",
       "2021-01-08 00:00:00-05:00  117.18  117.3428  116.9800  117.09  5580443   \n",
       "2021-01-11 00:00:00-05:00  117.02  117.0500  116.8900  116.89  5047096   \n",
       "2021-01-12 00:00:00-05:00  116.82  116.9900  116.6800  116.98  5103382   \n",
       "2021-01-13 00:00:00-05:00  117.63  117.6300  117.0800  117.36  5686592   \n",
       "\n",
       "                                           SPY                            \\\n",
       "                          daily_return    open    high       low   close   \n",
       "time                                                                       \n",
       "2021-01-07 00:00:00-05:00          NaN  376.10  379.90  375.9100  379.06   \n",
       "2021-01-08 00:00:00-05:00    -0.001024  380.59  381.49  377.1000  381.24   \n",
       "2021-01-11 00:00:00-05:00    -0.001708  377.85  380.58  377.7189  378.74   \n",
       "2021-01-12 00:00:00-05:00     0.000770  378.89  379.86  376.3600  378.81   \n",
       "2021-01-13 00:00:00-05:00     0.003248  378.69  380.86  377.8500  379.76   \n",
       "\n",
       "                                                  \n",
       "                             volume daily_return  \n",
       "time                                              \n",
       "2021-01-07 00:00:00-05:00  58862006          NaN  \n",
       "2021-01-08 00:00:00-05:00  60275466     0.005751  \n",
       "2021-01-11 00:00:00-05:00  44814805    -0.006558  \n",
       "2021-01-12 00:00:00-05:00  45364896     0.000185  \n",
       "2021-01-13 00:00:00-05:00  38355050     0.002508  "
      ]
     },
     "execution_count": 18,
     "metadata": {},
     "output_type": "execute_result"
    }
   ],
   "source": [
    "# Printing the simulation input data\r\n",
    "montecarlo_30.portfolio_data.head()"
   ]
  },
  {
   "cell_type": "code",
   "execution_count": 19,
   "metadata": {},
   "outputs": [
    {
     "name": "stdout",
     "output_type": "stream",
     "text": [
      "Running Monte Carlo simulation number 0.\n",
      "Running Monte Carlo simulation number 10.\n",
      "Running Monte Carlo simulation number 20.\n",
      "Running Monte Carlo simulation number 30.\n",
      "Running Monte Carlo simulation number 40.\n",
      "Running Monte Carlo simulation number 50.\n",
      "Running Monte Carlo simulation number 60.\n",
      "Running Monte Carlo simulation number 70.\n",
      "Running Monte Carlo simulation number 80.\n",
      "Running Monte Carlo simulation number 90.\n",
      "Running Monte Carlo simulation number 100.\n",
      "Running Monte Carlo simulation number 110.\n",
      "Running Monte Carlo simulation number 120.\n",
      "Running Monte Carlo simulation number 130.\n",
      "Running Monte Carlo simulation number 140.\n",
      "Running Monte Carlo simulation number 150.\n",
      "Running Monte Carlo simulation number 160.\n",
      "Running Monte Carlo simulation number 170.\n",
      "Running Monte Carlo simulation number 180.\n",
      "Running Monte Carlo simulation number 190.\n",
      "Running Monte Carlo simulation number 200.\n",
      "Running Monte Carlo simulation number 210.\n",
      "Running Monte Carlo simulation number 220.\n",
      "Running Monte Carlo simulation number 230.\n",
      "Running Monte Carlo simulation number 240.\n",
      "Running Monte Carlo simulation number 250.\n",
      "Running Monte Carlo simulation number 260.\n",
      "Running Monte Carlo simulation number 270.\n",
      "Running Monte Carlo simulation number 280.\n",
      "Running Monte Carlo simulation number 290.\n",
      "Running Monte Carlo simulation number 300.\n",
      "Running Monte Carlo simulation number 310.\n",
      "Running Monte Carlo simulation number 320.\n",
      "Running Monte Carlo simulation number 330.\n",
      "Running Monte Carlo simulation number 340.\n",
      "Running Monte Carlo simulation number 350.\n",
      "Running Monte Carlo simulation number 360.\n",
      "Running Monte Carlo simulation number 370.\n",
      "Running Monte Carlo simulation number 380.\n",
      "Running Monte Carlo simulation number 390.\n",
      "Running Monte Carlo simulation number 400.\n",
      "Running Monte Carlo simulation number 410.\n",
      "Running Monte Carlo simulation number 420.\n",
      "Running Monte Carlo simulation number 430.\n",
      "Running Monte Carlo simulation number 440.\n",
      "Running Monte Carlo simulation number 450.\n",
      "Running Monte Carlo simulation number 460.\n",
      "Running Monte Carlo simulation number 470.\n",
      "Running Monte Carlo simulation number 480.\n",
      "Running Monte Carlo simulation number 490.\n"
     ]
    },
    {
     "data": {
      "text/html": [
       "<div>\n",
       "<style scoped>\n",
       "    .dataframe tbody tr th:only-of-type {\n",
       "        vertical-align: middle;\n",
       "    }\n",
       "\n",
       "    .dataframe tbody tr th {\n",
       "        vertical-align: top;\n",
       "    }\n",
       "\n",
       "    .dataframe thead th {\n",
       "        text-align: right;\n",
       "    }\n",
       "</style>\n",
       "<table border=\"1\" class=\"dataframe\">\n",
       "  <thead>\n",
       "    <tr style=\"text-align: right;\">\n",
       "      <th></th>\n",
       "      <th>0</th>\n",
       "      <th>1</th>\n",
       "      <th>2</th>\n",
       "      <th>3</th>\n",
       "      <th>4</th>\n",
       "      <th>5</th>\n",
       "      <th>6</th>\n",
       "      <th>7</th>\n",
       "      <th>8</th>\n",
       "      <th>9</th>\n",
       "      <th>...</th>\n",
       "      <th>490</th>\n",
       "      <th>491</th>\n",
       "      <th>492</th>\n",
       "      <th>493</th>\n",
       "      <th>494</th>\n",
       "      <th>495</th>\n",
       "      <th>496</th>\n",
       "      <th>497</th>\n",
       "      <th>498</th>\n",
       "      <th>499</th>\n",
       "    </tr>\n",
       "  </thead>\n",
       "  <tbody>\n",
       "    <tr>\n",
       "      <th>0</th>\n",
       "      <td>1.000000</td>\n",
       "      <td>1.000000</td>\n",
       "      <td>1.000000</td>\n",
       "      <td>1.000000</td>\n",
       "      <td>1.000000</td>\n",
       "      <td>1.000000</td>\n",
       "      <td>1.000000</td>\n",
       "      <td>1.000000</td>\n",
       "      <td>1.000000</td>\n",
       "      <td>1.000000</td>\n",
       "      <td>...</td>\n",
       "      <td>1.000000</td>\n",
       "      <td>1.000000</td>\n",
       "      <td>1.000000</td>\n",
       "      <td>1.000000</td>\n",
       "      <td>1.000000</td>\n",
       "      <td>1.000000</td>\n",
       "      <td>1.000000</td>\n",
       "      <td>1.000000</td>\n",
       "      <td>1.000000</td>\n",
       "      <td>1.000000</td>\n",
       "    </tr>\n",
       "    <tr>\n",
       "      <th>1</th>\n",
       "      <td>1.005634</td>\n",
       "      <td>0.994134</td>\n",
       "      <td>0.994706</td>\n",
       "      <td>0.994424</td>\n",
       "      <td>0.999532</td>\n",
       "      <td>1.003034</td>\n",
       "      <td>1.001990</td>\n",
       "      <td>0.994464</td>\n",
       "      <td>0.996469</td>\n",
       "      <td>0.996969</td>\n",
       "      <td>...</td>\n",
       "      <td>1.000651</td>\n",
       "      <td>1.009352</td>\n",
       "      <td>1.000715</td>\n",
       "      <td>1.001367</td>\n",
       "      <td>1.003754</td>\n",
       "      <td>1.005055</td>\n",
       "      <td>0.994166</td>\n",
       "      <td>0.999769</td>\n",
       "      <td>0.998371</td>\n",
       "      <td>0.999097</td>\n",
       "    </tr>\n",
       "    <tr>\n",
       "      <th>2</th>\n",
       "      <td>1.007335</td>\n",
       "      <td>0.997216</td>\n",
       "      <td>1.001722</td>\n",
       "      <td>0.991946</td>\n",
       "      <td>0.987408</td>\n",
       "      <td>0.999376</td>\n",
       "      <td>1.005741</td>\n",
       "      <td>0.998150</td>\n",
       "      <td>0.994124</td>\n",
       "      <td>1.002567</td>\n",
       "      <td>...</td>\n",
       "      <td>1.001834</td>\n",
       "      <td>1.015718</td>\n",
       "      <td>1.001579</td>\n",
       "      <td>0.995420</td>\n",
       "      <td>1.020073</td>\n",
       "      <td>1.015512</td>\n",
       "      <td>0.989132</td>\n",
       "      <td>1.005689</td>\n",
       "      <td>0.990955</td>\n",
       "      <td>0.998592</td>\n",
       "    </tr>\n",
       "    <tr>\n",
       "      <th>3</th>\n",
       "      <td>1.009781</td>\n",
       "      <td>0.991352</td>\n",
       "      <td>1.002637</td>\n",
       "      <td>0.998914</td>\n",
       "      <td>0.996773</td>\n",
       "      <td>1.008407</td>\n",
       "      <td>0.995983</td>\n",
       "      <td>1.000235</td>\n",
       "      <td>0.988486</td>\n",
       "      <td>1.003659</td>\n",
       "      <td>...</td>\n",
       "      <td>0.998831</td>\n",
       "      <td>1.019436</td>\n",
       "      <td>1.005522</td>\n",
       "      <td>1.001990</td>\n",
       "      <td>1.015670</td>\n",
       "      <td>1.021229</td>\n",
       "      <td>0.982864</td>\n",
       "      <td>1.008522</td>\n",
       "      <td>0.994097</td>\n",
       "      <td>0.996668</td>\n",
       "    </tr>\n",
       "    <tr>\n",
       "      <th>4</th>\n",
       "      <td>1.004998</td>\n",
       "      <td>0.990617</td>\n",
       "      <td>1.007185</td>\n",
       "      <td>1.005005</td>\n",
       "      <td>1.005614</td>\n",
       "      <td>1.012834</td>\n",
       "      <td>0.999423</td>\n",
       "      <td>1.006789</td>\n",
       "      <td>0.988716</td>\n",
       "      <td>1.003865</td>\n",
       "      <td>...</td>\n",
       "      <td>1.002094</td>\n",
       "      <td>1.024989</td>\n",
       "      <td>1.001945</td>\n",
       "      <td>1.007479</td>\n",
       "      <td>1.020203</td>\n",
       "      <td>1.014500</td>\n",
       "      <td>0.976753</td>\n",
       "      <td>1.008210</td>\n",
       "      <td>0.990936</td>\n",
       "      <td>0.999516</td>\n",
       "    </tr>\n",
       "    <tr>\n",
       "      <th>...</th>\n",
       "      <td>...</td>\n",
       "      <td>...</td>\n",
       "      <td>...</td>\n",
       "      <td>...</td>\n",
       "      <td>...</td>\n",
       "      <td>...</td>\n",
       "      <td>...</td>\n",
       "      <td>...</td>\n",
       "      <td>...</td>\n",
       "      <td>...</td>\n",
       "      <td>...</td>\n",
       "      <td>...</td>\n",
       "      <td>...</td>\n",
       "      <td>...</td>\n",
       "      <td>...</td>\n",
       "      <td>...</td>\n",
       "      <td>...</td>\n",
       "      <td>...</td>\n",
       "      <td>...</td>\n",
       "      <td>...</td>\n",
       "      <td>...</td>\n",
       "    </tr>\n",
       "    <tr>\n",
       "      <th>7556</th>\n",
       "      <td>44.671588</td>\n",
       "      <td>57.279060</td>\n",
       "      <td>32.755722</td>\n",
       "      <td>37.374787</td>\n",
       "      <td>66.024237</td>\n",
       "      <td>49.189453</td>\n",
       "      <td>94.954308</td>\n",
       "      <td>26.846099</td>\n",
       "      <td>48.334353</td>\n",
       "      <td>81.924710</td>\n",
       "      <td>...</td>\n",
       "      <td>20.471429</td>\n",
       "      <td>50.565778</td>\n",
       "      <td>107.398822</td>\n",
       "      <td>52.429648</td>\n",
       "      <td>74.477547</td>\n",
       "      <td>91.581920</td>\n",
       "      <td>44.303858</td>\n",
       "      <td>33.601008</td>\n",
       "      <td>41.763566</td>\n",
       "      <td>63.174504</td>\n",
       "    </tr>\n",
       "    <tr>\n",
       "      <th>7557</th>\n",
       "      <td>45.079851</td>\n",
       "      <td>57.576653</td>\n",
       "      <td>32.615708</td>\n",
       "      <td>37.355980</td>\n",
       "      <td>65.359236</td>\n",
       "      <td>49.907205</td>\n",
       "      <td>94.122377</td>\n",
       "      <td>26.716286</td>\n",
       "      <td>48.407674</td>\n",
       "      <td>81.788347</td>\n",
       "      <td>...</td>\n",
       "      <td>20.323725</td>\n",
       "      <td>51.016209</td>\n",
       "      <td>107.005042</td>\n",
       "      <td>52.510464</td>\n",
       "      <td>74.394434</td>\n",
       "      <td>92.147406</td>\n",
       "      <td>44.344533</td>\n",
       "      <td>33.498086</td>\n",
       "      <td>41.750297</td>\n",
       "      <td>62.999127</td>\n",
       "    </tr>\n",
       "    <tr>\n",
       "      <th>7558</th>\n",
       "      <td>45.079873</td>\n",
       "      <td>57.946770</td>\n",
       "      <td>32.609235</td>\n",
       "      <td>37.299306</td>\n",
       "      <td>65.055442</td>\n",
       "      <td>49.716470</td>\n",
       "      <td>94.611123</td>\n",
       "      <td>26.685662</td>\n",
       "      <td>48.660551</td>\n",
       "      <td>81.913027</td>\n",
       "      <td>...</td>\n",
       "      <td>20.256496</td>\n",
       "      <td>51.392566</td>\n",
       "      <td>107.552011</td>\n",
       "      <td>52.812549</td>\n",
       "      <td>74.422833</td>\n",
       "      <td>92.394322</td>\n",
       "      <td>44.739385</td>\n",
       "      <td>33.753836</td>\n",
       "      <td>42.066131</td>\n",
       "      <td>62.973590</td>\n",
       "    </tr>\n",
       "    <tr>\n",
       "      <th>7559</th>\n",
       "      <td>44.904808</td>\n",
       "      <td>57.864623</td>\n",
       "      <td>32.794864</td>\n",
       "      <td>37.226585</td>\n",
       "      <td>64.895005</td>\n",
       "      <td>49.616887</td>\n",
       "      <td>94.315060</td>\n",
       "      <td>26.693707</td>\n",
       "      <td>48.733186</td>\n",
       "      <td>82.839105</td>\n",
       "      <td>...</td>\n",
       "      <td>20.341783</td>\n",
       "      <td>51.293225</td>\n",
       "      <td>107.092580</td>\n",
       "      <td>52.664420</td>\n",
       "      <td>74.194709</td>\n",
       "      <td>92.984200</td>\n",
       "      <td>44.995067</td>\n",
       "      <td>33.525536</td>\n",
       "      <td>42.259570</td>\n",
       "      <td>62.825864</td>\n",
       "    </tr>\n",
       "    <tr>\n",
       "      <th>7560</th>\n",
       "      <td>45.093577</td>\n",
       "      <td>58.174565</td>\n",
       "      <td>33.040533</td>\n",
       "      <td>36.881047</td>\n",
       "      <td>64.743665</td>\n",
       "      <td>49.629079</td>\n",
       "      <td>94.421610</td>\n",
       "      <td>26.603772</td>\n",
       "      <td>49.010735</td>\n",
       "      <td>83.641664</td>\n",
       "      <td>...</td>\n",
       "      <td>20.384498</td>\n",
       "      <td>50.933387</td>\n",
       "      <td>106.404440</td>\n",
       "      <td>52.734136</td>\n",
       "      <td>74.547759</td>\n",
       "      <td>93.403701</td>\n",
       "      <td>44.885961</td>\n",
       "      <td>33.207929</td>\n",
       "      <td>42.507792</td>\n",
       "      <td>63.186942</td>\n",
       "    </tr>\n",
       "  </tbody>\n",
       "</table>\n",
       "<p>7561 rows × 500 columns</p>\n",
       "</div>"
      ],
      "text/plain": [
       "            0          1          2          3          4          5    \\\n",
       "0      1.000000   1.000000   1.000000   1.000000   1.000000   1.000000   \n",
       "1      1.005634   0.994134   0.994706   0.994424   0.999532   1.003034   \n",
       "2      1.007335   0.997216   1.001722   0.991946   0.987408   0.999376   \n",
       "3      1.009781   0.991352   1.002637   0.998914   0.996773   1.008407   \n",
       "4      1.004998   0.990617   1.007185   1.005005   1.005614   1.012834   \n",
       "...         ...        ...        ...        ...        ...        ...   \n",
       "7556  44.671588  57.279060  32.755722  37.374787  66.024237  49.189453   \n",
       "7557  45.079851  57.576653  32.615708  37.355980  65.359236  49.907205   \n",
       "7558  45.079873  57.946770  32.609235  37.299306  65.055442  49.716470   \n",
       "7559  44.904808  57.864623  32.794864  37.226585  64.895005  49.616887   \n",
       "7560  45.093577  58.174565  33.040533  36.881047  64.743665  49.629079   \n",
       "\n",
       "            6          7          8          9    ...        490        491  \\\n",
       "0      1.000000   1.000000   1.000000   1.000000  ...   1.000000   1.000000   \n",
       "1      1.001990   0.994464   0.996469   0.996969  ...   1.000651   1.009352   \n",
       "2      1.005741   0.998150   0.994124   1.002567  ...   1.001834   1.015718   \n",
       "3      0.995983   1.000235   0.988486   1.003659  ...   0.998831   1.019436   \n",
       "4      0.999423   1.006789   0.988716   1.003865  ...   1.002094   1.024989   \n",
       "...         ...        ...        ...        ...  ...        ...        ...   \n",
       "7556  94.954308  26.846099  48.334353  81.924710  ...  20.471429  50.565778   \n",
       "7557  94.122377  26.716286  48.407674  81.788347  ...  20.323725  51.016209   \n",
       "7558  94.611123  26.685662  48.660551  81.913027  ...  20.256496  51.392566   \n",
       "7559  94.315060  26.693707  48.733186  82.839105  ...  20.341783  51.293225   \n",
       "7560  94.421610  26.603772  49.010735  83.641664  ...  20.384498  50.933387   \n",
       "\n",
       "             492        493        494        495        496        497  \\\n",
       "0       1.000000   1.000000   1.000000   1.000000   1.000000   1.000000   \n",
       "1       1.000715   1.001367   1.003754   1.005055   0.994166   0.999769   \n",
       "2       1.001579   0.995420   1.020073   1.015512   0.989132   1.005689   \n",
       "3       1.005522   1.001990   1.015670   1.021229   0.982864   1.008522   \n",
       "4       1.001945   1.007479   1.020203   1.014500   0.976753   1.008210   \n",
       "...          ...        ...        ...        ...        ...        ...   \n",
       "7556  107.398822  52.429648  74.477547  91.581920  44.303858  33.601008   \n",
       "7557  107.005042  52.510464  74.394434  92.147406  44.344533  33.498086   \n",
       "7558  107.552011  52.812549  74.422833  92.394322  44.739385  33.753836   \n",
       "7559  107.092580  52.664420  74.194709  92.984200  44.995067  33.525536   \n",
       "7560  106.404440  52.734136  74.547759  93.403701  44.885961  33.207929   \n",
       "\n",
       "            498        499  \n",
       "0      1.000000   1.000000  \n",
       "1      0.998371   0.999097  \n",
       "2      0.990955   0.998592  \n",
       "3      0.994097   0.996668  \n",
       "4      0.990936   0.999516  \n",
       "...         ...        ...  \n",
       "7556  41.763566  63.174504  \n",
       "7557  41.750297  62.999127  \n",
       "7558  42.066131  62.973590  \n",
       "7559  42.259570  62.825864  \n",
       "7560  42.507792  63.186942  \n",
       "\n",
       "[7561 rows x 500 columns]"
      ]
     },
     "execution_count": 19,
     "metadata": {},
     "output_type": "execute_result"
    }
   ],
   "source": [
    "# Running a Monte Carlo simulation to forecast 30 years cumulative returns\r\n",
    "montecarlo_30.calc_cumulative_return()"
   ]
  },
  {
   "cell_type": "code",
   "execution_count": 20,
   "metadata": {},
   "outputs": [
    {
     "data": {
      "image/png": "[encoded data removed]",
      "text/plain": [
       "<Figure size 432x288 with 1 Axes>"
      ]
     },
     "metadata": {
      "needs_background": "light"
     },
     "output_type": "display_data"
    }
   ],
   "source": [
    "# Plot simulation outcomes\r\n",
    "montecarlo_30_plot = montecarlo_30.plot_simulation()"
   ]
  },
  {
   "cell_type": "code",
   "execution_count": 21,
   "metadata": {},
   "outputs": [
    {
     "data": {
      "image/png": "[encoded data removed]",
      "text/plain": [
       "<Figure size 432x288 with 1 Axes>"
      ]
     },
     "metadata": {
      "needs_background": "light"
     },
     "output_type": "display_data"
    }
   ],
   "source": [
    "# Plot probability distribution and confidence intervals\r\n",
    "montecarlo_30_dist_plot = montecarlo_30.plot_distribution()"
   ]
  },
  {
   "cell_type": "markdown",
   "metadata": {},
   "source": [
    "### Retirement Analysis"
   ]
  },
  {
   "cell_type": "code",
   "execution_count": 22,
   "metadata": {},
   "outputs": [
    {
     "name": "stdout",
     "output_type": "stream",
     "text": [
      "count           500.000000\n",
      "mean             58.248993\n",
      "std              28.752724\n",
      "min              12.053724\n",
      "25%              38.738522\n",
      "50%              52.223942\n",
      "75%              71.288142\n",
      "max             257.684368\n",
      "95% CI Lower     20.649107\n",
      "95% CI Upper    122.426779\n",
      "Name: 7560, dtype: float64\n"
     ]
    }
   ],
   "source": [
    "# Fetch summary statistics from the Monte Carlo simulation results\r\n",
    "montecarlo_30_summary = montecarlo_30.summarize_cumulative_return()\r\n",
    "\r\n",
    "# Print summary statistics\r\n",
    "print(montecarlo_30_summary)"
   ]
  },
  {
   "cell_type": "markdown",
   "metadata": {},
   "source": [
    "### Calculate the expected portfolio return at the 95% lower and upper confidence intervals based on a `$20,000` initial investment."
   ]
  },
  {
   "cell_type": "code",
   "execution_count": 23,
   "metadata": {},
   "outputs": [
    {
     "name": "stdout",
     "output_type": "stream",
     "text": [
      "There is a 95% chance that an initial investment of $20000 in the portfolio over the next 30 years will end within in the range of $412982.14 and $2448535.57\n"
     ]
    }
   ],
   "source": [
    "# Set initial investment\r\n",
    "initial_investment = 20000\r\n",
    "\r\n",
    "# Use the lower and upper `95%` confidence intervals to calculate the range of the possible outcomes of our $20,000\r\n",
    "ci_lower = round((montecarlo_30_summary[8] * initial_investment), 2)\r\n",
    "ci_upper = round((montecarlo_30_summary[9] * initial_investment), 2) \r\n",
    "\r\n",
    "# Print results\r\n",
    "print(f\"There is a 95% chance that an initial investment of ${initial_investment} in the portfolio\"\r\n",
    "      f\" over the next 30 years will end within in the range of\"\r\n",
    "      f\" ${ci_lower} and ${ci_upper}\")"
   ]
  },
  {
   "cell_type": "markdown",
   "metadata": {},
   "source": [
    "### Calculate the expected portfolio return at the `95%` lower and upper confidence intervals based on a `50%` increase in the initial investment."
   ]
  },
  {
   "cell_type": "code",
   "execution_count": 24,
   "metadata": {},
   "outputs": [
    {
     "name": "stdout",
     "output_type": "stream",
     "text": [
      "There is a 95% chance that an initial investment of $30000.0 in the portfolio over the next 30 years will end within in the range of $619473.21 and $3672803.36\n"
     ]
    }
   ],
   "source": [
    "# Set initial investment\r\n",
    "initial_investment = 20000 * 1.5\r\n",
    "\r\n",
    "# Use the lower and upper `95%` confidence intervals to calculate the range of the possible outcomes of our $30,000\r\n",
    "ci_lower = round((montecarlo_30_summary[8] * initial_investment), 2)\r\n",
    "ci_upper = round((montecarlo_30_summary[9] * initial_investment), 2)\r\n",
    "\r\n",
    "# Print results\r\n",
    "print(f\"There is a 95% chance that an initial investment of ${initial_investment} in the portfolio\"\r\n",
    "      f\" over the next 30 years will end within in the range of\"\r\n",
    "      f\" ${ci_lower} and ${ci_upper}\")"
   ]
  },
  {
   "cell_type": "markdown",
   "metadata": {},
   "source": [
    "## Optional Challenge - Early Retirement\n",
    "\n",
    "\n",
    "### Five Years Retirement Option"
   ]
  },
  {
   "cell_type": "code",
   "execution_count": 25,
   "metadata": {},
   "outputs": [],
   "source": [
    "# Configuring a Monte Carlo simulation to forecast 5 years cumulative returns\r\n",
    "# YOUR CODE HERE!"
   ]
  },
  {
   "cell_type": "code",
   "execution_count": 26,
   "metadata": {},
   "outputs": [],
   "source": [
    "# Running a Monte Carlo simulation to forecast 5 years cumulative returns\r\n",
    "# YOUR CODE HERE!"
   ]
  },
  {
   "cell_type": "code",
   "execution_count": 27,
   "metadata": {},
   "outputs": [],
   "source": [
    "# Plot simulation outcomes\r\n",
    "# YOUR CODE HERE!"
   ]
  },
  {
   "cell_type": "code",
   "execution_count": 28,
   "metadata": {},
   "outputs": [],
   "source": [
    "# Plot probability distribution and confidence intervals\n",
    "# YOUR CODE HERE!"
   ]
  },
  {
   "cell_type": "code",
   "execution_count": 29,
   "metadata": {},
   "outputs": [],
   "source": [
    "# Fetch summary statistics from the Monte Carlo simulation results\n",
    "# YOUR CODE HERE!\n",
    "\n",
    "# Print summary statistics\n",
    "# YOUR CODE HERE!"
   ]
  },
  {
   "cell_type": "code",
   "execution_count": 30,
   "metadata": {},
   "outputs": [
    {
     "ename": "NameError",
     "evalue": "name 'ci_lower_five' is not defined",
     "output_type": "error",
     "traceback": [
      "\u001b[1;31m---------------------------------------------------------------------------\u001b[0m",
      "\u001b[1;31mNameError\u001b[0m                                 Traceback (most recent call last)",
      "\u001b[1;32m<ipython-input-30-d56b774f48d0>\u001b[0m in \u001b[0;36m<module>\u001b[1;34m\u001b[0m\n\u001b[0;32m      6\u001b[0m \u001b[1;33m\u001b[0m\u001b[0m\n\u001b[0;32m      7\u001b[0m \u001b[1;31m# Print results\u001b[0m\u001b[1;33m\u001b[0m\u001b[1;33m\u001b[0m\u001b[1;33m\u001b[0m\u001b[0m\n\u001b[1;32m----> 8\u001b[1;33m print(f\"There is a 95% chance that an initial investment of ${initial_investment} in the portfolio\"\n\u001b[0m\u001b[0;32m      9\u001b[0m       \u001b[1;34mf\" over the next 5 years will end within in the range of\"\u001b[0m\u001b[1;33m\u001b[0m\u001b[1;33m\u001b[0m\u001b[0m\n\u001b[0;32m     10\u001b[0m       f\" ${ci_lower_five} and ${ci_upper_five}\")\n",
      "\u001b[1;31mNameError\u001b[0m: name 'ci_lower_five' is not defined"
     ]
    }
   ],
   "source": [
    "# Set initial investment\n",
    "# YOUR CODE HERE!\n",
    "\n",
    "# Use the lower and upper `95%` confidence intervals to calculate the range of the possible outcomes of our $60,000\n",
    "# YOUR CODE HERE!\n",
    "\n",
    "# Print results\n",
    "print(f\"There is a 95% chance that an initial investment of ${initial_investment} in the portfolio\"\n",
    "      f\" over the next 5 years will end within in the range of\"\n",
    "      f\" ${ci_lower_five} and ${ci_upper_five}\")"
   ]
  },
  {
   "cell_type": "markdown",
   "metadata": {},
   "source": [
    "### Ten Years Retirement Option"
   ]
  },
  {
   "cell_type": "code",
   "execution_count": null,
   "metadata": {},
   "outputs": [],
   "source": [
    "# Configuring a Monte Carlo simulation to forecast 10 years cumulative returns\n",
    "# YOUR CODE HERE!"
   ]
  },
  {
   "cell_type": "code",
   "execution_count": null,
   "metadata": {},
   "outputs": [],
   "source": [
    "# Running a Monte Carlo simulation to forecast 10 years cumulative returns\n",
    "# YOUR CODE HERE!"
   ]
  },
  {
   "cell_type": "code",
   "execution_count": null,
   "metadata": {},
   "outputs": [],
   "source": [
    "# Plot simulation outcomes\n",
    "# YOUR CODE HERE!"
   ]
  },
  {
   "cell_type": "code",
   "execution_count": null,
   "metadata": {},
   "outputs": [],
   "source": [
    "# Plot probability distribution and confidence intervals\n",
    "# YOUR CODE HERE!"
   ]
  },
  {
   "cell_type": "code",
   "execution_count": null,
   "metadata": {},
   "outputs": [],
   "source": [
    "# Fetch summary statistics from the Monte Carlo simulation results\n",
    "# YOUR CODE HERE!\n",
    "\n",
    "# Print summary statistics\n",
    "# YOUR CODE HERE!"
   ]
  },
  {
   "cell_type": "code",
   "execution_count": null,
   "metadata": {},
   "outputs": [],
   "source": [
    "# Set initial investment\n",
    "# YOUR CODE HERE!\n",
    "\n",
    "# Use the lower and upper `95%` confidence intervals to calculate the range of the possible outcomes of our $60,000\n",
    "# YOUR CODE HERE!\n",
    "\n",
    "# Print results\n",
    "print(f\"There is a 95% chance that an initial investment of ${initial_investment} in the portfolio\"\n",
    "      f\" over the next 10 years will end within in the range of\"\n",
    "      f\" ${ci_lower_ten} and ${ci_upper_ten}\")"
   ]
  }
 ],
 "metadata": {
  "interpreter": {
   "hash": "ceb917bc4ec5d1ec370cd0bd1655421d31331b4e9197e72ac91608292e39f7a5"
  },
  "kernelspec": {
   "display_name": "Python 3",
   "language": "python",
   "name": "python3"
  },
  "language_info": {
   "codemirror_mode": {
    "name": "ipython",
    "version": 3
   },
   "file_extension": ".py",
   "mimetype": "text/x-python",
   "name": "python",
   "nbconvert_exporter": "python",
   "pygments_lexer": "ipython3",
   "version": "3.7.10"
  }
 },
 "nbformat": 4,
 "nbformat_minor": 4
}
