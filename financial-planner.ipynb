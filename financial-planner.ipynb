{
 "cells": [
  {
   "cell_type": "markdown",
   "source": [
    "# Unit 5 - Financial Planning\n"
   ],
   "metadata": {}
  },
  {
   "cell_type": "code",
   "execution_count": 79,
   "source": [
    "# Initial imports\r\n",
    "import os\r\n",
    "import requests\r\n",
    "import pandas as pd\r\n",
    "from dotenv import load_dotenv\r\n",
    "import alpaca_trade_api as tradeapi\r\n",
    "from MCForecastTools import MCSimulation\r\n",
    "\r\n",
    "%matplotlib inline"
   ],
   "outputs": [],
   "metadata": {}
  },
  {
   "cell_type": "code",
   "execution_count": 80,
   "source": [
    "# Load .env enviroment variables\r\n",
    "load_dotenv()"
   ],
   "outputs": [
    {
     "output_type": "execute_result",
     "data": {
      "text/plain": [
       "True"
      ]
     },
     "metadata": {},
     "execution_count": 80
    }
   ],
   "metadata": {}
  },
  {
   "cell_type": "markdown",
   "source": [
    "## Part 1 - Personal Finance Planner"
   ],
   "metadata": {}
  },
  {
   "cell_type": "markdown",
   "source": [
    "### Collect Crypto Prices Using the `requests` Library"
   ],
   "metadata": {}
  },
  {
   "cell_type": "code",
   "execution_count": 81,
   "source": [
    "# Set current amount of crypto assets\r\n",
    "my_btc = 1.2    \r\n",
    "my_eth = 5.3"
   ],
   "outputs": [],
   "metadata": {}
  },
  {
   "cell_type": "code",
   "execution_count": 82,
   "source": [
    "# Crypto API URLs\r\n",
    "btc_url = \"https://api.alternative.me/v2/ticker/Bitcoin/?convert=CAD\"\r\n",
    "eth_url = \"https://api.alternative.me/v2/ticker/Ethereum/?convert=CAD\""
   ],
   "outputs": [],
   "metadata": {}
  },
  {
   "cell_type": "code",
   "execution_count": 83,
   "source": [
    "# Fetch current BTC price\r\n",
    "btc_url_response = requests.get(btc_url).json()\r\n",
    "btc_price = btc_url_response[\"data\"][\"1\"][\"quotes\"][\"USD\"][\"price\"]\r\n",
    "\r\n",
    "# Fetch current ETH price\r\n",
    "eth_url_response = requests.get(eth_url).json()\r\n",
    "eth_price = eth_url_response[\"data\"][\"1027\"][\"quotes\"][\"USD\"][\"price\"]\r\n",
    "\r\n",
    "# Compute current value of my crpto\r\n",
    "my_btc_value = my_btc * btc_price\r\n",
    "my_eth_value = my_eth * eth_price\r\n",
    "\r\n",
    "# Print current crypto wallet balance\r\n",
    "print(f\"The current value of your {my_btc} BTC is ${my_btc_value:0.2f}\")\r\n",
    "print(f\"The current value of your {my_eth} ETH is ${my_eth_value:0.2f}\")"
   ],
   "outputs": [
    {
     "output_type": "stream",
     "name": "stdout",
     "text": [
      "The current value of your 1.2 BTC is $39276.00\n",
      "The current value of your 5.3 ETH is $11024.21\n"
     ]
    }
   ],
   "metadata": {}
  },
  {
   "cell_type": "markdown",
   "source": [
    "### Collect Investments Data Using Alpaca: `SPY` (stocks) and `AGG` (bonds)"
   ],
   "metadata": {}
  },
  {
   "cell_type": "code",
   "execution_count": 84,
   "source": [
    "# Current amount of shares\r\n",
    "my_agg = 200\r\n",
    "my_spy = 50"
   ],
   "outputs": [],
   "metadata": {}
  },
  {
   "cell_type": "code",
   "execution_count": 85,
   "source": [
    "# Set Alpaca API key and secret\r\n",
    "alpaca_api_key = os.getenv(\"ALPACA_API_KEY\")\r\n",
    "alpaca_secret_key = os.getenv(\"ALPACA_SECRET_KEY\")\r\n",
    "\r\n",
    "# Create the Alpaca API object\r\n",
    "alpaca = tradeapi.REST(alpaca_api_key, alpaca_secret_key, api_version = \"v2\")"
   ],
   "outputs": [],
   "metadata": {}
  },
  {
   "cell_type": "code",
   "execution_count": 86,
   "source": [
    "# Format current date as ISO format\r\n",
    "today = pd.Timestamp(\"2021-06-22\", tz=\"America/New_York\").isoformat()\r\n",
    "\r\n",
    "# Set the tickers\r\n",
    "tickers = [\"AGG\", \"SPY\"]\r\n",
    "\r\n",
    "# Set timeframe to '1D' for Alpaca API\r\n",
    "timeframe = \"1D\"\r\n",
    "\r\n",
    "# Get current closing prices for SPY and AGG for the past 800 days\r\n",
    "current_portfoilo = alpaca.get_barset(tickers, timeframe, end=today, limit=800).df\r\n",
    "current_portfoilo = current_portfoilo.sort_index(ascending=False)\r\n",
    "\r\n",
    "# Preview DataFrame\r\n",
    "current_portfoilo.head(5)\r\n",
    "#current_portfoilo.tail(5)"
   ],
   "outputs": [
    {
     "output_type": "execute_result",
     "data": {
      "text/plain": [
       "                               AGG                                        \\\n",
       "                              open      high      low   close     volume   \n",
       "time                                                                       \n",
       "2021-06-22 00:00:00-04:00  114.830  115.1400  114.830  115.11  5299846.0   \n",
       "2021-06-21 00:00:00-04:00  115.060  115.1200  114.921  114.96  4934966.0   \n",
       "2021-06-18 00:00:00-04:00  115.050  115.3900  114.910  115.29  5438261.0   \n",
       "2021-06-17 00:00:00-04:00  114.792  115.2500  114.785  114.99  7417691.0   \n",
       "2021-06-16 00:00:00-04:00  115.070  115.1285  114.510  114.63  7527672.0   \n",
       "\n",
       "                              SPY                                        \n",
       "                             open      high     low   close      volume  \n",
       "time                                                                     \n",
       "2021-06-22 00:00:00-04:00  420.85  424.0000  420.08  423.06  50857233.0  \n",
       "2021-06-21 00:00:00-04:00  416.80  421.0600  415.93  420.85  63727942.0  \n",
       "2021-06-18 00:00:00-04:00  417.08  417.8281  414.70  415.01  92753385.0  \n",
       "2021-06-17 00:00:00-04:00  421.67  423.0200  419.32  421.97  71991686.0  \n",
       "2021-06-16 00:00:00-04:00  424.63  424.8700  419.92  422.12  73638324.0  "
      ],
      "text/html": [
       "<div>\n",
       "<style scoped>\n",
       "    .dataframe tbody tr th:only-of-type {\n",
       "        vertical-align: middle;\n",
       "    }\n",
       "\n",
       "    .dataframe tbody tr th {\n",
       "        vertical-align: top;\n",
       "    }\n",
       "\n",
       "    .dataframe thead tr th {\n",
       "        text-align: left;\n",
       "    }\n",
       "\n",
       "    .dataframe thead tr:last-of-type th {\n",
       "        text-align: right;\n",
       "    }\n",
       "</style>\n",
       "<table border=\"1\" class=\"dataframe\">\n",
       "  <thead>\n",
       "    <tr>\n",
       "      <th></th>\n",
       "      <th colspan=\"5\" halign=\"left\">AGG</th>\n",
       "      <th colspan=\"5\" halign=\"left\">SPY</th>\n",
       "    </tr>\n",
       "    <tr>\n",
       "      <th></th>\n",
       "      <th>open</th>\n",
       "      <th>high</th>\n",
       "      <th>low</th>\n",
       "      <th>close</th>\n",
       "      <th>volume</th>\n",
       "      <th>open</th>\n",
       "      <th>high</th>\n",
       "      <th>low</th>\n",
       "      <th>close</th>\n",
       "      <th>volume</th>\n",
       "    </tr>\n",
       "    <tr>\n",
       "      <th>time</th>\n",
       "      <th></th>\n",
       "      <th></th>\n",
       "      <th></th>\n",
       "      <th></th>\n",
       "      <th></th>\n",
       "      <th></th>\n",
       "      <th></th>\n",
       "      <th></th>\n",
       "      <th></th>\n",
       "      <th></th>\n",
       "    </tr>\n",
       "  </thead>\n",
       "  <tbody>\n",
       "    <tr>\n",
       "      <th>2021-06-22 00:00:00-04:00</th>\n",
       "      <td>114.830</td>\n",
       "      <td>115.1400</td>\n",
       "      <td>114.830</td>\n",
       "      <td>115.11</td>\n",
       "      <td>5299846.0</td>\n",
       "      <td>420.85</td>\n",
       "      <td>424.0000</td>\n",
       "      <td>420.08</td>\n",
       "      <td>423.06</td>\n",
       "      <td>50857233.0</td>\n",
       "    </tr>\n",
       "    <tr>\n",
       "      <th>2021-06-21 00:00:00-04:00</th>\n",
       "      <td>115.060</td>\n",
       "      <td>115.1200</td>\n",
       "      <td>114.921</td>\n",
       "      <td>114.96</td>\n",
       "      <td>4934966.0</td>\n",
       "      <td>416.80</td>\n",
       "      <td>421.0600</td>\n",
       "      <td>415.93</td>\n",
       "      <td>420.85</td>\n",
       "      <td>63727942.0</td>\n",
       "    </tr>\n",
       "    <tr>\n",
       "      <th>2021-06-18 00:00:00-04:00</th>\n",
       "      <td>115.050</td>\n",
       "      <td>115.3900</td>\n",
       "      <td>114.910</td>\n",
       "      <td>115.29</td>\n",
       "      <td>5438261.0</td>\n",
       "      <td>417.08</td>\n",
       "      <td>417.8281</td>\n",
       "      <td>414.70</td>\n",
       "      <td>415.01</td>\n",
       "      <td>92753385.0</td>\n",
       "    </tr>\n",
       "    <tr>\n",
       "      <th>2021-06-17 00:00:00-04:00</th>\n",
       "      <td>114.792</td>\n",
       "      <td>115.2500</td>\n",
       "      <td>114.785</td>\n",
       "      <td>114.99</td>\n",
       "      <td>7417691.0</td>\n",
       "      <td>421.67</td>\n",
       "      <td>423.0200</td>\n",
       "      <td>419.32</td>\n",
       "      <td>421.97</td>\n",
       "      <td>71991686.0</td>\n",
       "    </tr>\n",
       "    <tr>\n",
       "      <th>2021-06-16 00:00:00-04:00</th>\n",
       "      <td>115.070</td>\n",
       "      <td>115.1285</td>\n",
       "      <td>114.510</td>\n",
       "      <td>114.63</td>\n",
       "      <td>7527672.0</td>\n",
       "      <td>424.63</td>\n",
       "      <td>424.8700</td>\n",
       "      <td>419.92</td>\n",
       "      <td>422.12</td>\n",
       "      <td>73638324.0</td>\n",
       "    </tr>\n",
       "  </tbody>\n",
       "</table>\n",
       "</div>"
      ]
     },
     "metadata": {},
     "execution_count": 86
    }
   ],
   "metadata": {}
  },
  {
   "cell_type": "code",
   "execution_count": 87,
   "source": [
    "# Pick AGG and SPY close prices\r\n",
    "agg_close_price = current_portfoilo[\"AGG\"][\"close\"][0]\r\n",
    "spy_close_price = current_portfoilo[\"SPY\"][\"close\"][0]\r\n",
    "\r\n",
    "# Print AGG and SPY close prices\r\n",
    "print(f\"Current AGG closing price: ${agg_close_price}\")\r\n",
    "print(f\"Current SPY closing price: ${spy_close_price}\")"
   ],
   "outputs": [
    {
     "output_type": "stream",
     "name": "stdout",
     "text": [
      "Current AGG closing price: $115.11\n",
      "Current SPY closing price: $423.06\n"
     ]
    }
   ],
   "metadata": {}
  },
  {
   "cell_type": "code",
   "execution_count": 88,
   "source": [
    "# Compute the current value of shares\r\n",
    "my_agg_value = my_agg * agg_close_price\r\n",
    "my_spy_value = my_spy * spy_close_price\r\n",
    "\r\n",
    "# Print current value of share\r\n",
    "print(f\"The current value of your {my_spy} SPY shares is ${my_spy_value:0.2f}\")\r\n",
    "print(f\"The current value of your {my_agg} AGG shares is ${my_agg_value:0.2f}\")"
   ],
   "outputs": [
    {
     "output_type": "stream",
     "name": "stdout",
     "text": [
      "The current value of your 50 SPY shares is $21153.00\n",
      "The current value of your 200 AGG shares is $23022.00\n"
     ]
    }
   ],
   "metadata": {}
  },
  {
   "cell_type": "markdown",
   "source": [
    "### Savings Health Analysis"
   ],
   "metadata": {}
  },
  {
   "cell_type": "code",
   "execution_count": 89,
   "source": [
    "# Set monthly household income\r\n",
    "monthly_income = 12000\r\n",
    "\r\n",
    "# Create savings DataFrame\r\n",
    "# calculate the total crypto and share values\r\n",
    "total_crypto = my_btc_value + my_eth_value\r\n",
    "total_shares = my_agg_value + my_spy_value\r\n",
    "savings = {\"amount\" : [total_crypto,total_shares]}\r\n",
    "# Create dataframe df_savings\r\n",
    "df_savings = pd.DataFrame(savings, index=[\"crypto\", \"shares\"])\r\n",
    "# Display savings DataFrame\r\n",
    "display(df_savings)"
   ],
   "outputs": [
    {
     "output_type": "display_data",
     "data": {
      "text/plain": [
       "           amount\n",
       "crypto  50300.212\n",
       "shares  44175.000"
      ],
      "text/html": [
       "<div>\n",
       "<style scoped>\n",
       "    .dataframe tbody tr th:only-of-type {\n",
       "        vertical-align: middle;\n",
       "    }\n",
       "\n",
       "    .dataframe tbody tr th {\n",
       "        vertical-align: top;\n",
       "    }\n",
       "\n",
       "    .dataframe thead th {\n",
       "        text-align: right;\n",
       "    }\n",
       "</style>\n",
       "<table border=\"1\" class=\"dataframe\">\n",
       "  <thead>\n",
       "    <tr style=\"text-align: right;\">\n",
       "      <th></th>\n",
       "      <th>amount</th>\n",
       "    </tr>\n",
       "  </thead>\n",
       "  <tbody>\n",
       "    <tr>\n",
       "      <th>crypto</th>\n",
       "      <td>50300.212</td>\n",
       "    </tr>\n",
       "    <tr>\n",
       "      <th>shares</th>\n",
       "      <td>44175.000</td>\n",
       "    </tr>\n",
       "  </tbody>\n",
       "</table>\n",
       "</div>"
      ]
     },
     "metadata": {}
    }
   ],
   "metadata": {}
  },
  {
   "cell_type": "code",
   "execution_count": 90,
   "source": [
    "# Plot savings pie chart\r\n",
    "\r\n",
    "df_savings.plot.pie(y=\"amount\", title=\"Composition of Personal Savings\")"
   ],
   "outputs": [
    {
     "output_type": "execute_result",
     "data": {
      "text/plain": [
       "<AxesSubplot:title={'center':'Composition of Personal Savings'}, ylabel='amount'>"
      ]
     },
     "metadata": {},
     "execution_count": 90
    },
    {
     "output_type": "display_data",
     "data": {
      "text/plain": [
       "<Figure size 432x288 with 1 Axes>"
      ],
      "image/png": "[encoded data removed]"
     },
     "metadata": {}
    }
   ],
   "metadata": {}
  },
  {
   "cell_type": "code",
   "execution_count": 91,
   "source": [
    "# Set ideal emergency fund\r\n",
    "emergency_fund = monthly_income * 3\r\n",
    "\r\n",
    "# Calculate total amount of savings\r\n",
    "total_savings = total_crypto + total_shares\r\n",
    "\r\n",
    "total_savings\r\n",
    "\r\n",
    "# Validate saving health\r\n",
    "if emergency_fund < total_savings:\r\n",
    "        print(\" Congratulations! You have enough money in your emergency fund.\")\r\n",
    "elif emergency_fund == total_savings:\r\n",
    "        print(\" Congratulations! You have reached this financial goal\")\r\n",
    "else:\r\n",
    "        print(f\"Oh No! You are {emergency_fund - total_savings} dollars away from reaching the goal\")"
   ],
   "outputs": [
    {
     "output_type": "stream",
     "name": "stdout",
     "text": [
      " Congratulations! You have enough money in your emergency fund.\n"
     ]
    }
   ],
   "metadata": {}
  },
  {
   "cell_type": "markdown",
   "source": [
    "## Part 2 - Retirement Planning\n",
    "\n",
    "### Monte Carlo Simulation"
   ],
   "metadata": {}
  },
  {
   "cell_type": "code",
   "execution_count": 92,
   "source": [
    "# Set start and end dates of five years back from today.\r\n",
    "# Sample results may vary from the solution based on the time frame chosen\r\n",
    "start_date = pd.Timestamp('2016-06-01', tz='America/New_York').isoformat()\r\n",
    "end_date = pd.Timestamp('2021-06-01', tz='America/New_York').isoformat()"
   ],
   "outputs": [],
   "metadata": {}
  },
  {
   "cell_type": "code",
   "execution_count": 93,
   "source": [
    "# Get 5 years' worth of historical data for SPY and AGG\r\n",
    "display(tickers)\r\n",
    "df_stock_data = alpaca.get_barset(tickers, timeframe, start=start_date, end=end_date).df\r\n",
    "\r\n",
    "# Display sample data\r\n",
    "df_stock_data.head()"
   ],
   "outputs": [
    {
     "output_type": "display_data",
     "data": {
      "text/plain": [
       "['AGG', 'SPY']"
      ]
     },
     "metadata": {}
    },
    {
     "output_type": "execute_result",
     "data": {
      "text/plain": [
       "                              AGG                                       \\\n",
       "                             open      high       low   close   volume   \n",
       "time                                                                     \n",
       "2021-01-07 00:00:00-05:00  117.13  117.2600  117.0667  117.21  4949593   \n",
       "2021-01-08 00:00:00-05:00  117.18  117.3428  116.9800  117.09  5580443   \n",
       "2021-01-11 00:00:00-05:00  117.02  117.0500  116.8900  116.89  5047096   \n",
       "2021-01-12 00:00:00-05:00  116.82  116.9900  116.6800  116.98  5103382   \n",
       "2021-01-13 00:00:00-05:00  117.63  117.6300  117.0800  117.36  5686592   \n",
       "\n",
       "                              SPY                                      \n",
       "                             open    high       low   close    volume  \n",
       "time                                                                   \n",
       "2021-01-07 00:00:00-05:00  376.10  379.90  375.9100  379.06  58862006  \n",
       "2021-01-08 00:00:00-05:00  380.59  381.49  377.1000  381.24  60275466  \n",
       "2021-01-11 00:00:00-05:00  377.85  380.58  377.7189  378.74  44814805  \n",
       "2021-01-12 00:00:00-05:00  378.89  379.86  376.3600  378.81  45364896  \n",
       "2021-01-13 00:00:00-05:00  378.69  380.86  377.8500  379.76  38355050  "
      ],
      "text/html": [
       "<div>\n",
       "<style scoped>\n",
       "    .dataframe tbody tr th:only-of-type {\n",
       "        vertical-align: middle;\n",
       "    }\n",
       "\n",
       "    .dataframe tbody tr th {\n",
       "        vertical-align: top;\n",
       "    }\n",
       "\n",
       "    .dataframe thead tr th {\n",
       "        text-align: left;\n",
       "    }\n",
       "\n",
       "    .dataframe thead tr:last-of-type th {\n",
       "        text-align: right;\n",
       "    }\n",
       "</style>\n",
       "<table border=\"1\" class=\"dataframe\">\n",
       "  <thead>\n",
       "    <tr>\n",
       "      <th></th>\n",
       "      <th colspan=\"5\" halign=\"left\">AGG</th>\n",
       "      <th colspan=\"5\" halign=\"left\">SPY</th>\n",
       "    </tr>\n",
       "    <tr>\n",
       "      <th></th>\n",
       "      <th>open</th>\n",
       "      <th>high</th>\n",
       "      <th>low</th>\n",
       "      <th>close</th>\n",
       "      <th>volume</th>\n",
       "      <th>open</th>\n",
       "      <th>high</th>\n",
       "      <th>low</th>\n",
       "      <th>close</th>\n",
       "      <th>volume</th>\n",
       "    </tr>\n",
       "    <tr>\n",
       "      <th>time</th>\n",
       "      <th></th>\n",
       "      <th></th>\n",
       "      <th></th>\n",
       "      <th></th>\n",
       "      <th></th>\n",
       "      <th></th>\n",
       "      <th></th>\n",
       "      <th></th>\n",
       "      <th></th>\n",
       "      <th></th>\n",
       "    </tr>\n",
       "  </thead>\n",
       "  <tbody>\n",
       "    <tr>\n",
       "      <th>2021-01-07 00:00:00-05:00</th>\n",
       "      <td>117.13</td>\n",
       "      <td>117.2600</td>\n",
       "      <td>117.0667</td>\n",
       "      <td>117.21</td>\n",
       "      <td>4949593</td>\n",
       "      <td>376.10</td>\n",
       "      <td>379.90</td>\n",
       "      <td>375.9100</td>\n",
       "      <td>379.06</td>\n",
       "      <td>58862006</td>\n",
       "    </tr>\n",
       "    <tr>\n",
       "      <th>2021-01-08 00:00:00-05:00</th>\n",
       "      <td>117.18</td>\n",
       "      <td>117.3428</td>\n",
       "      <td>116.9800</td>\n",
       "      <td>117.09</td>\n",
       "      <td>5580443</td>\n",
       "      <td>380.59</td>\n",
       "      <td>381.49</td>\n",
       "      <td>377.1000</td>\n",
       "      <td>381.24</td>\n",
       "      <td>60275466</td>\n",
       "    </tr>\n",
       "    <tr>\n",
       "      <th>2021-01-11 00:00:00-05:00</th>\n",
       "      <td>117.02</td>\n",
       "      <td>117.0500</td>\n",
       "      <td>116.8900</td>\n",
       "      <td>116.89</td>\n",
       "      <td>5047096</td>\n",
       "      <td>377.85</td>\n",
       "      <td>380.58</td>\n",
       "      <td>377.7189</td>\n",
       "      <td>378.74</td>\n",
       "      <td>44814805</td>\n",
       "    </tr>\n",
       "    <tr>\n",
       "      <th>2021-01-12 00:00:00-05:00</th>\n",
       "      <td>116.82</td>\n",
       "      <td>116.9900</td>\n",
       "      <td>116.6800</td>\n",
       "      <td>116.98</td>\n",
       "      <td>5103382</td>\n",
       "      <td>378.89</td>\n",
       "      <td>379.86</td>\n",
       "      <td>376.3600</td>\n",
       "      <td>378.81</td>\n",
       "      <td>45364896</td>\n",
       "    </tr>\n",
       "    <tr>\n",
       "      <th>2021-01-13 00:00:00-05:00</th>\n",
       "      <td>117.63</td>\n",
       "      <td>117.6300</td>\n",
       "      <td>117.0800</td>\n",
       "      <td>117.36</td>\n",
       "      <td>5686592</td>\n",
       "      <td>378.69</td>\n",
       "      <td>380.86</td>\n",
       "      <td>377.8500</td>\n",
       "      <td>379.76</td>\n",
       "      <td>38355050</td>\n",
       "    </tr>\n",
       "  </tbody>\n",
       "</table>\n",
       "</div>"
      ]
     },
     "metadata": {},
     "execution_count": 93
    }
   ],
   "metadata": {}
  },
  {
   "cell_type": "code",
   "execution_count": 94,
   "source": [
    "# Configuring a Monte Carlo simulation to forecast 30 years cumulative returns\r\n",
    "montecarlo_30 = MCSimulation(portfolio_data = df_stock_data, weights = [.40,.60], num_simulation = 500, num_trading_days = 252*30)"
   ],
   "outputs": [],
   "metadata": {}
  },
  {
   "cell_type": "code",
   "execution_count": 95,
   "source": [
    "# Printing the simulation input data\r\n",
    "montecarlo_30.portfolio_data.head()"
   ],
   "outputs": [
    {
     "output_type": "execute_result",
     "data": {
      "text/plain": [
       "                              AGG                                       \\\n",
       "                             open      high       low   close   volume   \n",
       "time                                                                     \n",
       "2021-01-07 00:00:00-05:00  117.13  117.2600  117.0667  117.21  4949593   \n",
       "2021-01-08 00:00:00-05:00  117.18  117.3428  116.9800  117.09  5580443   \n",
       "2021-01-11 00:00:00-05:00  117.02  117.0500  116.8900  116.89  5047096   \n",
       "2021-01-12 00:00:00-05:00  116.82  116.9900  116.6800  116.98  5103382   \n",
       "2021-01-13 00:00:00-05:00  117.63  117.6300  117.0800  117.36  5686592   \n",
       "\n",
       "                                           SPY                            \\\n",
       "                          daily_return    open    high       low   close   \n",
       "time                                                                       \n",
       "2021-01-07 00:00:00-05:00          NaN  376.10  379.90  375.9100  379.06   \n",
       "2021-01-08 00:00:00-05:00    -0.001024  380.59  381.49  377.1000  381.24   \n",
       "2021-01-11 00:00:00-05:00    -0.001708  377.85  380.58  377.7189  378.74   \n",
       "2021-01-12 00:00:00-05:00     0.000770  378.89  379.86  376.3600  378.81   \n",
       "2021-01-13 00:00:00-05:00     0.003248  378.69  380.86  377.8500  379.76   \n",
       "\n",
       "                                                  \n",
       "                             volume daily_return  \n",
       "time                                              \n",
       "2021-01-07 00:00:00-05:00  58862006          NaN  \n",
       "2021-01-08 00:00:00-05:00  60275466     0.005751  \n",
       "2021-01-11 00:00:00-05:00  44814805    -0.006558  \n",
       "2021-01-12 00:00:00-05:00  45364896     0.000185  \n",
       "2021-01-13 00:00:00-05:00  38355050     0.002508  "
      ],
      "text/html": [
       "<div>\n",
       "<style scoped>\n",
       "    .dataframe tbody tr th:only-of-type {\n",
       "        vertical-align: middle;\n",
       "    }\n",
       "\n",
       "    .dataframe tbody tr th {\n",
       "        vertical-align: top;\n",
       "    }\n",
       "\n",
       "    .dataframe thead tr th {\n",
       "        text-align: left;\n",
       "    }\n",
       "\n",
       "    .dataframe thead tr:last-of-type th {\n",
       "        text-align: right;\n",
       "    }\n",
       "</style>\n",
       "<table border=\"1\" class=\"dataframe\">\n",
       "  <thead>\n",
       "    <tr>\n",
       "      <th></th>\n",
       "      <th colspan=\"6\" halign=\"left\">AGG</th>\n",
       "      <th colspan=\"6\" halign=\"left\">SPY</th>\n",
       "    </tr>\n",
       "    <tr>\n",
       "      <th></th>\n",
       "      <th>open</th>\n",
       "      <th>high</th>\n",
       "      <th>low</th>\n",
       "      <th>close</th>\n",
       "      <th>volume</th>\n",
       "      <th>daily_return</th>\n",
       "      <th>open</th>\n",
       "      <th>high</th>\n",
       "      <th>low</th>\n",
       "      <th>close</th>\n",
       "      <th>volume</th>\n",
       "      <th>daily_return</th>\n",
       "    </tr>\n",
       "    <tr>\n",
       "      <th>time</th>\n",
       "      <th></th>\n",
       "      <th></th>\n",
       "      <th></th>\n",
       "      <th></th>\n",
       "      <th></th>\n",
       "      <th></th>\n",
       "      <th></th>\n",
       "      <th></th>\n",
       "      <th></th>\n",
       "      <th></th>\n",
       "      <th></th>\n",
       "      <th></th>\n",
       "    </tr>\n",
       "  </thead>\n",
       "  <tbody>\n",
       "    <tr>\n",
       "      <th>2021-01-07 00:00:00-05:00</th>\n",
       "      <td>117.13</td>\n",
       "      <td>117.2600</td>\n",
       "      <td>117.0667</td>\n",
       "      <td>117.21</td>\n",
       "      <td>4949593</td>\n",
       "      <td>NaN</td>\n",
       "      <td>376.10</td>\n",
       "      <td>379.90</td>\n",
       "      <td>375.9100</td>\n",
       "      <td>379.06</td>\n",
       "      <td>58862006</td>\n",
       "      <td>NaN</td>\n",
       "    </tr>\n",
       "    <tr>\n",
       "      <th>2021-01-08 00:00:00-05:00</th>\n",
       "      <td>117.18</td>\n",
       "      <td>117.3428</td>\n",
       "      <td>116.9800</td>\n",
       "      <td>117.09</td>\n",
       "      <td>5580443</td>\n",
       "      <td>-0.001024</td>\n",
       "      <td>380.59</td>\n",
       "      <td>381.49</td>\n",
       "      <td>377.1000</td>\n",
       "      <td>381.24</td>\n",
       "      <td>60275466</td>\n",
       "      <td>0.005751</td>\n",
       "    </tr>\n",
       "    <tr>\n",
       "      <th>2021-01-11 00:00:00-05:00</th>\n",
       "      <td>117.02</td>\n",
       "      <td>117.0500</td>\n",
       "      <td>116.8900</td>\n",
       "      <td>116.89</td>\n",
       "      <td>5047096</td>\n",
       "      <td>-0.001708</td>\n",
       "      <td>377.85</td>\n",
       "      <td>380.58</td>\n",
       "      <td>377.7189</td>\n",
       "      <td>378.74</td>\n",
       "      <td>44814805</td>\n",
       "      <td>-0.006558</td>\n",
       "    </tr>\n",
       "    <tr>\n",
       "      <th>2021-01-12 00:00:00-05:00</th>\n",
       "      <td>116.82</td>\n",
       "      <td>116.9900</td>\n",
       "      <td>116.6800</td>\n",
       "      <td>116.98</td>\n",
       "      <td>5103382</td>\n",
       "      <td>0.000770</td>\n",
       "      <td>378.89</td>\n",
       "      <td>379.86</td>\n",
       "      <td>376.3600</td>\n",
       "      <td>378.81</td>\n",
       "      <td>45364896</td>\n",
       "      <td>0.000185</td>\n",
       "    </tr>\n",
       "    <tr>\n",
       "      <th>2021-01-13 00:00:00-05:00</th>\n",
       "      <td>117.63</td>\n",
       "      <td>117.6300</td>\n",
       "      <td>117.0800</td>\n",
       "      <td>117.36</td>\n",
       "      <td>5686592</td>\n",
       "      <td>0.003248</td>\n",
       "      <td>378.69</td>\n",
       "      <td>380.86</td>\n",
       "      <td>377.8500</td>\n",
       "      <td>379.76</td>\n",
       "      <td>38355050</td>\n",
       "      <td>0.002508</td>\n",
       "    </tr>\n",
       "  </tbody>\n",
       "</table>\n",
       "</div>"
      ]
     },
     "metadata": {},
     "execution_count": 95
    }
   ],
   "metadata": {}
  },
  {
   "cell_type": "code",
   "execution_count": 96,
   "source": [
    "# Running a Monte Carlo simulation to forecast 30 years cumulative returns\r\n",
    "montecarlo_30.calc_cumulative_return()"
   ],
   "outputs": [
    {
     "output_type": "stream",
     "name": "stdout",
     "text": [
      "Running Monte Carlo simulation number 0.\n",
      "Running Monte Carlo simulation number 10.\n",
      "Running Monte Carlo simulation number 20.\n",
      "Running Monte Carlo simulation number 30.\n",
      "Running Monte Carlo simulation number 40.\n",
      "Running Monte Carlo simulation number 50.\n",
      "Running Monte Carlo simulation number 60.\n",
      "Running Monte Carlo simulation number 70.\n",
      "Running Monte Carlo simulation number 80.\n",
      "Running Monte Carlo simulation number 90.\n",
      "Running Monte Carlo simulation number 100.\n",
      "Running Monte Carlo simulation number 110.\n",
      "Running Monte Carlo simulation number 120.\n",
      "Running Monte Carlo simulation number 130.\n",
      "Running Monte Carlo simulation number 140.\n",
      "Running Monte Carlo simulation number 150.\n",
      "Running Monte Carlo simulation number 160.\n",
      "Running Monte Carlo simulation number 170.\n",
      "Running Monte Carlo simulation number 180.\n",
      "Running Monte Carlo simulation number 190.\n",
      "Running Monte Carlo simulation number 200.\n",
      "Running Monte Carlo simulation number 210.\n",
      "Running Monte Carlo simulation number 220.\n",
      "Running Monte Carlo simulation number 230.\n",
      "Running Monte Carlo simulation number 240.\n",
      "Running Monte Carlo simulation number 250.\n",
      "Running Monte Carlo simulation number 260.\n",
      "Running Monte Carlo simulation number 270.\n",
      "Running Monte Carlo simulation number 280.\n",
      "Running Monte Carlo simulation number 290.\n",
      "Running Monte Carlo simulation number 300.\n",
      "Running Monte Carlo simulation number 310.\n",
      "Running Monte Carlo simulation number 320.\n",
      "Running Monte Carlo simulation number 330.\n",
      "Running Monte Carlo simulation number 340.\n",
      "Running Monte Carlo simulation number 350.\n",
      "Running Monte Carlo simulation number 360.\n",
      "Running Monte Carlo simulation number 370.\n",
      "Running Monte Carlo simulation number 380.\n",
      "Running Monte Carlo simulation number 390.\n",
      "Running Monte Carlo simulation number 400.\n",
      "Running Monte Carlo simulation number 410.\n",
      "Running Monte Carlo simulation number 420.\n",
      "Running Monte Carlo simulation number 430.\n",
      "Running Monte Carlo simulation number 440.\n",
      "Running Monte Carlo simulation number 450.\n",
      "Running Monte Carlo simulation number 460.\n",
      "Running Monte Carlo simulation number 470.\n",
      "Running Monte Carlo simulation number 480.\n",
      "Running Monte Carlo simulation number 490.\n"
     ]
    },
    {
     "output_type": "execute_result",
     "data": {
      "text/plain": [
       "             0          1          2           3          4          5    \\\n",
       "0       1.000000   1.000000   1.000000    1.000000   1.000000   1.000000   \n",
       "1       1.006213   0.999982   0.997792    1.002850   1.000176   0.997586   \n",
       "2       1.003848   0.996955   0.992085    1.004400   0.990056   1.000078   \n",
       "3       1.005816   0.999850   0.992524    0.998844   0.980489   1.004155   \n",
       "4       1.009391   0.991851   0.991312    1.002272   0.979977   0.998387   \n",
       "...          ...        ...        ...         ...        ...        ...   \n",
       "7556  120.523455  59.251338  49.273441  117.946590  36.521476  42.012758   \n",
       "7557  119.977450  59.047636  49.483008  118.548264  36.904580  42.024853   \n",
       "7558  120.342536  58.935002  50.080284  117.699686  36.939548  42.063549   \n",
       "7559  120.011597  58.978367  50.173310  117.907593  36.775222  42.190537   \n",
       "7560  121.080586  59.216269  50.652441  117.680507  36.847034  42.035991   \n",
       "\n",
       "            6          7          8          9    ...        490        491  \\\n",
       "0      1.000000   1.000000   1.000000   1.000000  ...   1.000000   1.000000   \n",
       "1      1.008550   1.004391   1.008065   1.005159  ...   1.000004   1.008257   \n",
       "2      1.004078   1.005459   1.008269   1.009047  ...   1.004481   1.008098   \n",
       "3      1.007124   1.010265   1.013452   1.010376  ...   1.016752   1.009292   \n",
       "4      1.008055   1.019008   1.011995   1.014304  ...   1.017210   1.014910   \n",
       "...         ...        ...        ...        ...  ...        ...        ...   \n",
       "7556  68.895188  23.774248  47.595257  99.747645  ...  48.475590  42.148036   \n",
       "7557  68.923853  23.633812  47.635539  99.181370  ...  48.800766  42.314567   \n",
       "7558  68.793133  23.760080  47.486905  99.282322  ...  48.059636  42.379606   \n",
       "7559  68.896569  23.817584  47.521608  99.373177  ...  48.483035  42.401801   \n",
       "7560  69.147871  24.045143  47.692728  98.849920  ...  48.712143  42.318547   \n",
       "\n",
       "            492         493         494        495         496        497  \\\n",
       "0      1.000000    1.000000    1.000000   1.000000    1.000000   1.000000   \n",
       "1      0.995933    1.004982    0.999110   0.986022    1.015814   0.984086   \n",
       "2      0.985100    0.999485    1.000000   0.986313    1.006827   0.978328   \n",
       "3      0.983332    1.001777    1.003611   0.986096    1.001419   0.982069   \n",
       "4      0.981854    1.000336    0.996743   0.984719    1.004918   0.984114   \n",
       "...         ...         ...         ...        ...         ...        ...   \n",
       "7556  62.976064  100.284007  105.292610  59.268608  111.594129  80.641086   \n",
       "7557  63.031431  100.206704  104.459516  59.685257  112.698294  81.136912   \n",
       "7558  62.868604  100.431918  103.812975  59.943502  113.561028  81.075091   \n",
       "7559  62.740713   99.791956  103.714543  60.052883  113.089035  82.011823   \n",
       "7560  62.703734   99.440455  103.301115  59.918258  113.248733  82.160860   \n",
       "\n",
       "            498        499  \n",
       "0      1.000000   1.000000  \n",
       "1      1.002462   0.997090  \n",
       "2      1.000558   1.000524  \n",
       "3      0.986442   0.995514  \n",
       "4      0.989168   0.995216  \n",
       "...         ...        ...  \n",
       "7556  45.910951  89.025477  \n",
       "7557  46.013111  88.809718  \n",
       "7558  45.682415  88.495516  \n",
       "7559  45.298912  89.038564  \n",
       "7560  45.653123  89.004999  \n",
       "\n",
       "[7561 rows x 500 columns]"
      ],
      "text/html": [
       "<div>\n",
       "<style scoped>\n",
       "    .dataframe tbody tr th:only-of-type {\n",
       "        vertical-align: middle;\n",
       "    }\n",
       "\n",
       "    .dataframe tbody tr th {\n",
       "        vertical-align: top;\n",
       "    }\n",
       "\n",
       "    .dataframe thead th {\n",
       "        text-align: right;\n",
       "    }\n",
       "</style>\n",
       "<table border=\"1\" class=\"dataframe\">\n",
       "  <thead>\n",
       "    <tr style=\"text-align: right;\">\n",
       "      <th></th>\n",
       "      <th>0</th>\n",
       "      <th>1</th>\n",
       "      <th>2</th>\n",
       "      <th>3</th>\n",
       "      <th>4</th>\n",
       "      <th>5</th>\n",
       "      <th>6</th>\n",
       "      <th>7</th>\n",
       "      <th>8</th>\n",
       "      <th>9</th>\n",
       "      <th>...</th>\n",
       "      <th>490</th>\n",
       "      <th>491</th>\n",
       "      <th>492</th>\n",
       "      <th>493</th>\n",
       "      <th>494</th>\n",
       "      <th>495</th>\n",
       "      <th>496</th>\n",
       "      <th>497</th>\n",
       "      <th>498</th>\n",
       "      <th>499</th>\n",
       "    </tr>\n",
       "  </thead>\n",
       "  <tbody>\n",
       "    <tr>\n",
       "      <th>0</th>\n",
       "      <td>1.000000</td>\n",
       "      <td>1.000000</td>\n",
       "      <td>1.000000</td>\n",
       "      <td>1.000000</td>\n",
       "      <td>1.000000</td>\n",
       "      <td>1.000000</td>\n",
       "      <td>1.000000</td>\n",
       "      <td>1.000000</td>\n",
       "      <td>1.000000</td>\n",
       "      <td>1.000000</td>\n",
       "      <td>...</td>\n",
       "      <td>1.000000</td>\n",
       "      <td>1.000000</td>\n",
       "      <td>1.000000</td>\n",
       "      <td>1.000000</td>\n",
       "      <td>1.000000</td>\n",
       "      <td>1.000000</td>\n",
       "      <td>1.000000</td>\n",
       "      <td>1.000000</td>\n",
       "      <td>1.000000</td>\n",
       "      <td>1.000000</td>\n",
       "    </tr>\n",
       "    <tr>\n",
       "      <th>1</th>\n",
       "      <td>1.006213</td>\n",
       "      <td>0.999982</td>\n",
       "      <td>0.997792</td>\n",
       "      <td>1.002850</td>\n",
       "      <td>1.000176</td>\n",
       "      <td>0.997586</td>\n",
       "      <td>1.008550</td>\n",
       "      <td>1.004391</td>\n",
       "      <td>1.008065</td>\n",
       "      <td>1.005159</td>\n",
       "      <td>...</td>\n",
       "      <td>1.000004</td>\n",
       "      <td>1.008257</td>\n",
       "      <td>0.995933</td>\n",
       "      <td>1.004982</td>\n",
       "      <td>0.999110</td>\n",
       "      <td>0.986022</td>\n",
       "      <td>1.015814</td>\n",
       "      <td>0.984086</td>\n",
       "      <td>1.002462</td>\n",
       "      <td>0.997090</td>\n",
       "    </tr>\n",
       "    <tr>\n",
       "      <th>2</th>\n",
       "      <td>1.003848</td>\n",
       "      <td>0.996955</td>\n",
       "      <td>0.992085</td>\n",
       "      <td>1.004400</td>\n",
       "      <td>0.990056</td>\n",
       "      <td>1.000078</td>\n",
       "      <td>1.004078</td>\n",
       "      <td>1.005459</td>\n",
       "      <td>1.008269</td>\n",
       "      <td>1.009047</td>\n",
       "      <td>...</td>\n",
       "      <td>1.004481</td>\n",
       "      <td>1.008098</td>\n",
       "      <td>0.985100</td>\n",
       "      <td>0.999485</td>\n",
       "      <td>1.000000</td>\n",
       "      <td>0.986313</td>\n",
       "      <td>1.006827</td>\n",
       "      <td>0.978328</td>\n",
       "      <td>1.000558</td>\n",
       "      <td>1.000524</td>\n",
       "    </tr>\n",
       "    <tr>\n",
       "      <th>3</th>\n",
       "      <td>1.005816</td>\n",
       "      <td>0.999850</td>\n",
       "      <td>0.992524</td>\n",
       "      <td>0.998844</td>\n",
       "      <td>0.980489</td>\n",
       "      <td>1.004155</td>\n",
       "      <td>1.007124</td>\n",
       "      <td>1.010265</td>\n",
       "      <td>1.013452</td>\n",
       "      <td>1.010376</td>\n",
       "      <td>...</td>\n",
       "      <td>1.016752</td>\n",
       "      <td>1.009292</td>\n",
       "      <td>0.983332</td>\n",
       "      <td>1.001777</td>\n",
       "      <td>1.003611</td>\n",
       "      <td>0.986096</td>\n",
       "      <td>1.001419</td>\n",
       "      <td>0.982069</td>\n",
       "      <td>0.986442</td>\n",
       "      <td>0.995514</td>\n",
       "    </tr>\n",
       "    <tr>\n",
       "      <th>4</th>\n",
       "      <td>1.009391</td>\n",
       "      <td>0.991851</td>\n",
       "      <td>0.991312</td>\n",
       "      <td>1.002272</td>\n",
       "      <td>0.979977</td>\n",
       "      <td>0.998387</td>\n",
       "      <td>1.008055</td>\n",
       "      <td>1.019008</td>\n",
       "      <td>1.011995</td>\n",
       "      <td>1.014304</td>\n",
       "      <td>...</td>\n",
       "      <td>1.017210</td>\n",
       "      <td>1.014910</td>\n",
       "      <td>0.981854</td>\n",
       "      <td>1.000336</td>\n",
       "      <td>0.996743</td>\n",
       "      <td>0.984719</td>\n",
       "      <td>1.004918</td>\n",
       "      <td>0.984114</td>\n",
       "      <td>0.989168</td>\n",
       "      <td>0.995216</td>\n",
       "    </tr>\n",
       "    <tr>\n",
       "      <th>...</th>\n",
       "      <td>...</td>\n",
       "      <td>...</td>\n",
       "      <td>...</td>\n",
       "      <td>...</td>\n",
       "      <td>...</td>\n",
       "      <td>...</td>\n",
       "      <td>...</td>\n",
       "      <td>...</td>\n",
       "      <td>...</td>\n",
       "      <td>...</td>\n",
       "      <td>...</td>\n",
       "      <td>...</td>\n",
       "      <td>...</td>\n",
       "      <td>...</td>\n",
       "      <td>...</td>\n",
       "      <td>...</td>\n",
       "      <td>...</td>\n",
       "      <td>...</td>\n",
       "      <td>...</td>\n",
       "      <td>...</td>\n",
       "      <td>...</td>\n",
       "    </tr>\n",
       "    <tr>\n",
       "      <th>7556</th>\n",
       "      <td>120.523455</td>\n",
       "      <td>59.251338</td>\n",
       "      <td>49.273441</td>\n",
       "      <td>117.946590</td>\n",
       "      <td>36.521476</td>\n",
       "      <td>42.012758</td>\n",
       "      <td>68.895188</td>\n",
       "      <td>23.774248</td>\n",
       "      <td>47.595257</td>\n",
       "      <td>99.747645</td>\n",
       "      <td>...</td>\n",
       "      <td>48.475590</td>\n",
       "      <td>42.148036</td>\n",
       "      <td>62.976064</td>\n",
       "      <td>100.284007</td>\n",
       "      <td>105.292610</td>\n",
       "      <td>59.268608</td>\n",
       "      <td>111.594129</td>\n",
       "      <td>80.641086</td>\n",
       "      <td>45.910951</td>\n",
       "      <td>89.025477</td>\n",
       "    </tr>\n",
       "    <tr>\n",
       "      <th>7557</th>\n",
       "      <td>119.977450</td>\n",
       "      <td>59.047636</td>\n",
       "      <td>49.483008</td>\n",
       "      <td>118.548264</td>\n",
       "      <td>36.904580</td>\n",
       "      <td>42.024853</td>\n",
       "      <td>68.923853</td>\n",
       "      <td>23.633812</td>\n",
       "      <td>47.635539</td>\n",
       "      <td>99.181370</td>\n",
       "      <td>...</td>\n",
       "      <td>48.800766</td>\n",
       "      <td>42.314567</td>\n",
       "      <td>63.031431</td>\n",
       "      <td>100.206704</td>\n",
       "      <td>104.459516</td>\n",
       "      <td>59.685257</td>\n",
       "      <td>112.698294</td>\n",
       "      <td>81.136912</td>\n",
       "      <td>46.013111</td>\n",
       "      <td>88.809718</td>\n",
       "    </tr>\n",
       "    <tr>\n",
       "      <th>7558</th>\n",
       "      <td>120.342536</td>\n",
       "      <td>58.935002</td>\n",
       "      <td>50.080284</td>\n",
       "      <td>117.699686</td>\n",
       "      <td>36.939548</td>\n",
       "      <td>42.063549</td>\n",
       "      <td>68.793133</td>\n",
       "      <td>23.760080</td>\n",
       "      <td>47.486905</td>\n",
       "      <td>99.282322</td>\n",
       "      <td>...</td>\n",
       "      <td>48.059636</td>\n",
       "      <td>42.379606</td>\n",
       "      <td>62.868604</td>\n",
       "      <td>100.431918</td>\n",
       "      <td>103.812975</td>\n",
       "      <td>59.943502</td>\n",
       "      <td>113.561028</td>\n",
       "      <td>81.075091</td>\n",
       "      <td>45.682415</td>\n",
       "      <td>88.495516</td>\n",
       "    </tr>\n",
       "    <tr>\n",
       "      <th>7559</th>\n",
       "      <td>120.011597</td>\n",
       "      <td>58.978367</td>\n",
       "      <td>50.173310</td>\n",
       "      <td>117.907593</td>\n",
       "      <td>36.775222</td>\n",
       "      <td>42.190537</td>\n",
       "      <td>68.896569</td>\n",
       "      <td>23.817584</td>\n",
       "      <td>47.521608</td>\n",
       "      <td>99.373177</td>\n",
       "      <td>...</td>\n",
       "      <td>48.483035</td>\n",
       "      <td>42.401801</td>\n",
       "      <td>62.740713</td>\n",
       "      <td>99.791956</td>\n",
       "      <td>103.714543</td>\n",
       "      <td>60.052883</td>\n",
       "      <td>113.089035</td>\n",
       "      <td>82.011823</td>\n",
       "      <td>45.298912</td>\n",
       "      <td>89.038564</td>\n",
       "    </tr>\n",
       "    <tr>\n",
       "      <th>7560</th>\n",
       "      <td>121.080586</td>\n",
       "      <td>59.216269</td>\n",
       "      <td>50.652441</td>\n",
       "      <td>117.680507</td>\n",
       "      <td>36.847034</td>\n",
       "      <td>42.035991</td>\n",
       "      <td>69.147871</td>\n",
       "      <td>24.045143</td>\n",
       "      <td>47.692728</td>\n",
       "      <td>98.849920</td>\n",
       "      <td>...</td>\n",
       "      <td>48.712143</td>\n",
       "      <td>42.318547</td>\n",
       "      <td>62.703734</td>\n",
       "      <td>99.440455</td>\n",
       "      <td>103.301115</td>\n",
       "      <td>59.918258</td>\n",
       "      <td>113.248733</td>\n",
       "      <td>82.160860</td>\n",
       "      <td>45.653123</td>\n",
       "      <td>89.004999</td>\n",
       "    </tr>\n",
       "  </tbody>\n",
       "</table>\n",
       "<p>7561 rows × 500 columns</p>\n",
       "</div>"
      ]
     },
     "metadata": {},
     "execution_count": 96
    }
   ],
   "metadata": {}
  },
  {
   "cell_type": "code",
   "execution_count": 97,
   "source": [
    "# Plot simulation outcomes\r\n",
    "montecarlo_30_plot = montecarlo_30.plot_simulation()"
   ],
   "outputs": [
    {
     "output_type": "display_data",
     "data": {
      "text/plain": [
       "<Figure size 432x288 with 1 Axes>"
      ],
      "image/png": "[encoded data removed]"
     },
     "metadata": {
      "needs_background": "light"
     }
    }
   ],
   "metadata": {}
  },
  {
   "cell_type": "code",
   "execution_count": 98,
   "source": [
    "# Plot probability distribution and confidence intervals\r\n",
    "montecarlo_30_dist_plot = montecarlo_30.plot_distribution()"
   ],
   "outputs": [
    {
     "output_type": "display_data",
     "data": {
      "text/plain": [
       "<Figure size 432x288 with 1 Axes>"
      ],
      "image/png": "[encoded data removed]"
     },
     "metadata": {
      "needs_background": "light"
     }
    }
   ],
   "metadata": {}
  },
  {
   "cell_type": "markdown",
   "source": [
    "### Retirement Analysis"
   ],
   "metadata": {}
  },
  {
   "cell_type": "code",
   "execution_count": 99,
   "source": [
    "# Fetch summary statistics from the Monte Carlo simulation results\r\n",
    "montecarlo_30_summary = montecarlo_30.summarize_cumulative_return()\r\n",
    "\r\n",
    "# Print summary statistics\r\n",
    "print(montecarlo_30_summary)"
   ],
   "outputs": [
    {
     "output_type": "stream",
     "name": "stdout",
     "text": [
      "count           500.000000\n",
      "mean             61.532349\n",
      "std              29.280188\n",
      "min              15.789388\n",
      "25%              39.695669\n",
      "50%              56.052135\n",
      "75%              75.752502\n",
      "max             208.945538\n",
      "95% CI Lower     22.082053\n",
      "95% CI Upper    135.773915\n",
      "Name: 7560, dtype: float64\n"
     ]
    }
   ],
   "metadata": {}
  },
  {
   "cell_type": "markdown",
   "source": [
    "### Calculate the expected portfolio return at the 95% lower and upper confidence intervals based on a `$20,000` initial investment."
   ],
   "metadata": {}
  },
  {
   "cell_type": "code",
   "execution_count": 100,
   "source": [
    "# Set initial investment\r\n",
    "initial_investment = 20000\r\n",
    "\r\n",
    "# Use the lower and upper `95%` confidence intervals to calculate the range of the possible outcomes of our $20,000\r\n",
    "ci_lower = round((montecarlo_30_summary[8] * initial_investment), 2)\r\n",
    "ci_upper = round((montecarlo_30_summary[9] * initial_investment), 2) \r\n",
    "\r\n",
    "# Print results\r\n",
    "print(f\"There is a 95% chance that an initial investment of ${initial_investment} in the portfolio\"\r\n",
    "      f\" over the next 30 years will end within in the range of\"\r\n",
    "      f\" ${ci_lower} and ${ci_upper}\")"
   ],
   "outputs": [
    {
     "output_type": "stream",
     "name": "stdout",
     "text": [
      "There is a 95% chance that an initial investment of $20000 in the portfolio over the next 30 years will end within in the range of $441641.06 and $2715478.3\n"
     ]
    }
   ],
   "metadata": {}
  },
  {
   "cell_type": "markdown",
   "source": [
    "### Calculate the expected portfolio return at the `95%` lower and upper confidence intervals based on a `50%` increase in the initial investment."
   ],
   "metadata": {}
  },
  {
   "cell_type": "code",
   "execution_count": 101,
   "source": [
    "# Set initial investment\r\n",
    "initial_investment = 20000 * 1.5\r\n",
    "\r\n",
    "# Use the lower and upper `95%` confidence intervals to calculate the range of the possible outcomes of our $30,000\r\n",
    "ci_lower = round((montecarlo_30_summary[8] * initial_investment), 2)\r\n",
    "ci_upper = round((montecarlo_30_summary[9] * initial_investment), 2)\r\n",
    "\r\n",
    "# Print results\r\n",
    "print(f\"There is a 95% chance that an initial investment of ${initial_investment} in the portfolio\"\r\n",
    "      f\" over the next 30 years will end within in the range of\"\r\n",
    "      f\" ${ci_lower} and ${ci_upper}\")"
   ],
   "outputs": [
    {
     "output_type": "stream",
     "name": "stdout",
     "text": [
      "There is a 95% chance that an initial investment of $30000.0 in the portfolio over the next 30 years will end within in the range of $662461.59 and $4073217.45\n"
     ]
    }
   ],
   "metadata": {}
  },
  {
   "cell_type": "markdown",
   "source": [
    "## Optional Challenge - Early Retirement\n",
    "\n",
    "\n",
    "### Five Years Retirement Option"
   ],
   "metadata": {}
  },
  {
   "cell_type": "code",
   "execution_count": 102,
   "source": [
    "# Configuring a Monte Carlo simulation to forecast 5 years cumulative returns\r\n",
    "# YOUR CODE HERE!"
   ],
   "outputs": [],
   "metadata": {}
  },
  {
   "cell_type": "code",
   "execution_count": 103,
   "source": [
    "# Running a Monte Carlo simulation to forecast 5 years cumulative returns\r\n",
    "# YOUR CODE HERE!"
   ],
   "outputs": [],
   "metadata": {}
  },
  {
   "cell_type": "code",
   "execution_count": 104,
   "source": [
    "# Plot simulation outcomes\r\n",
    "# YOUR CODE HERE!"
   ],
   "outputs": [],
   "metadata": {}
  },
  {
   "cell_type": "code",
   "execution_count": 105,
   "source": [
    "# Plot probability distribution and confidence intervals\r\n",
    "# YOUR CODE HERE!"
   ],
   "outputs": [],
   "metadata": {}
  },
  {
   "cell_type": "code",
   "execution_count": 106,
   "source": [
    "# Fetch summary statistics from the Monte Carlo simulation results\r\n",
    "# YOUR CODE HERE!\r\n",
    "\r\n",
    "# Print summary statistics\r\n",
    "# YOUR CODE HERE!"
   ],
   "outputs": [],
   "metadata": {}
  },
  {
   "cell_type": "code",
   "execution_count": 107,
   "source": [
    "# Set initial investment\r\n",
    "# YOUR CODE HERE!\r\n",
    "\r\n",
    "# Use the lower and upper `95%` confidence intervals to calculate the range of the possible outcomes of our $60,000\r\n",
    "# YOUR CODE HERE!\r\n",
    "\r\n",
    "# Print results\r\n",
    "print(f\"There is a 95% chance that an initial investment of ${initial_investment} in the portfolio\"\r\n",
    "      f\" over the next 5 years will end within in the range of\"\r\n",
    "      f\" ${ci_lower_five} and ${ci_upper_five}\")"
   ],
   "outputs": [
    {
     "output_type": "error",
     "ename": "NameError",
     "evalue": "name 'ci_lower_five' is not defined",
     "traceback": [
      "\u001b[1;31m---------------------------------------------------------------------------\u001b[0m",
      "\u001b[1;31mNameError\u001b[0m                                 Traceback (most recent call last)",
      "\u001b[1;32m<ipython-input-107-d56b774f48d0>\u001b[0m in \u001b[0;36m<module>\u001b[1;34m\u001b[0m\n\u001b[0;32m      6\u001b[0m \u001b[1;33m\u001b[0m\u001b[0m\n\u001b[0;32m      7\u001b[0m \u001b[1;31m# Print results\u001b[0m\u001b[1;33m\u001b[0m\u001b[1;33m\u001b[0m\u001b[1;33m\u001b[0m\u001b[0m\n\u001b[1;32m----> 8\u001b[1;33m print(f\"There is a 95% chance that an initial investment of ${initial_investment} in the portfolio\"\n\u001b[0m\u001b[0;32m      9\u001b[0m       \u001b[1;34mf\" over the next 5 years will end within in the range of\"\u001b[0m\u001b[1;33m\u001b[0m\u001b[1;33m\u001b[0m\u001b[0m\n\u001b[0;32m     10\u001b[0m       f\" ${ci_lower_five} and ${ci_upper_five}\")\n",
      "\u001b[1;31mNameError\u001b[0m: name 'ci_lower_five' is not defined"
     ]
    }
   ],
   "metadata": {}
  },
  {
   "cell_type": "markdown",
   "source": [
    "### Ten Years Retirement Option"
   ],
   "metadata": {}
  },
  {
   "cell_type": "code",
   "execution_count": null,
   "source": [
    "# Configuring a Monte Carlo simulation to forecast 10 years cumulative returns\r\n",
    "# YOUR CODE HERE!"
   ],
   "outputs": [],
   "metadata": {}
  },
  {
   "cell_type": "code",
   "execution_count": null,
   "source": [
    "# Running a Monte Carlo simulation to forecast 10 years cumulative returns\r\n",
    "# YOUR CODE HERE!"
   ],
   "outputs": [],
   "metadata": {}
  },
  {
   "cell_type": "code",
   "execution_count": null,
   "source": [
    "# Plot simulation outcomes\r\n",
    "# YOUR CODE HERE!"
   ],
   "outputs": [],
   "metadata": {}
  },
  {
   "cell_type": "code",
   "execution_count": null,
   "source": [
    "# Plot probability distribution and confidence intervals\r\n",
    "# YOUR CODE HERE!"
   ],
   "outputs": [],
   "metadata": {}
  },
  {
   "cell_type": "code",
   "execution_count": null,
   "source": [
    "# Fetch summary statistics from the Monte Carlo simulation results\r\n",
    "# YOUR CODE HERE!\r\n",
    "\r\n",
    "# Print summary statistics\r\n",
    "# YOUR CODE HERE!"
   ],
   "outputs": [],
   "metadata": {}
  },
  {
   "cell_type": "code",
   "execution_count": null,
   "source": [
    "# Set initial investment\r\n",
    "# YOUR CODE HERE!\r\n",
    "\r\n",
    "# Use the lower and upper `95%` confidence intervals to calculate the range of the possible outcomes of our $60,000\r\n",
    "# YOUR CODE HERE!\r\n",
    "\r\n",
    "# Print results\r\n",
    "print(f\"There is a 95% chance that an initial investment of ${initial_investment} in the portfolio\"\r\n",
    "      f\" over the next 10 years will end within in the range of\"\r\n",
    "      f\" ${ci_lower_ten} and ${ci_upper_ten}\")"
   ],
   "outputs": [],
   "metadata": {}
  }
 ],
 "metadata": {
  "interpreter": {
   "hash": "ceb917bc4ec5d1ec370cd0bd1655421d31331b4e9197e72ac91608292e39f7a5"
  },
  "kernelspec": {
   "name": "python3",
   "display_name": "Python 3.7.10 64-bit ('alpacaenv': conda)"
  },
  "language_info": {
   "codemirror_mode": {
    "name": "ipython",
    "version": 3
   },
   "file_extension": ".py",
   "mimetype": "text/x-python",
   "name": "python",
   "nbconvert_exporter": "python",
   "pygments_lexer": "ipython3",
   "version": "3.7.10"
  }
 },
 "nbformat": 4,
 "nbformat_minor": 4
}