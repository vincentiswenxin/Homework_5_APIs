{
 "cells": [
  {
   "cell_type": "markdown",
   "source": [
    "# Unit 5 - Financial Planning\n"
   ],
   "metadata": {}
  },
  {
   "cell_type": "code",
   "execution_count": 2,
   "source": [
    "# Initial imports\r\n",
    "import os\r\n",
    "import requests\r\n",
    "import pandas as pd\r\n",
    "from dotenv import load_dotenv\r\n",
    "import alpaca_trade_api as tradeapi\r\n",
    "from MCForecastTools import MCSimulation\r\n",
    "\r\n",
    "%matplotlib inline"
   ],
   "outputs": [],
   "metadata": {}
  },
  {
   "cell_type": "code",
   "execution_count": 3,
   "source": [
    "# Load .env enviroment variables\r\n",
    "load_dotenv()"
   ],
   "outputs": [
    {
     "output_type": "execute_result",
     "data": {
      "text/plain": [
       "True"
      ]
     },
     "metadata": {},
     "execution_count": 3
    }
   ],
   "metadata": {}
  },
  {
   "cell_type": "markdown",
   "source": [
    "## Part 1 - Personal Finance Planner"
   ],
   "metadata": {}
  },
  {
   "cell_type": "markdown",
   "source": [
    "### Collect Crypto Prices Using the `requests` Library"
   ],
   "metadata": {}
  },
  {
   "cell_type": "code",
   "execution_count": 4,
   "source": [
    "# Set current amount of crypto assets\r\n",
    "my_btc = 1.2    \r\n",
    "my_eth = 5.3"
   ],
   "outputs": [],
   "metadata": {}
  },
  {
   "cell_type": "code",
   "execution_count": 5,
   "source": [
    "# Crypto API URLs\r\n",
    "btc_url = \"https://api.alternative.me/v2/ticker/Bitcoin/?convert=CAD\"\r\n",
    "eth_url = \"https://api.alternative.me/v2/ticker/Ethereum/?convert=CAD\""
   ],
   "outputs": [],
   "metadata": {}
  },
  {
   "cell_type": "code",
   "execution_count": 6,
   "source": [
    "# Fetch current BTC price\r\n",
    "btc_url_response = requests.get(btc_url).json()\r\n",
    "btc_price = btc_url_response[\"data\"][\"1\"][\"quotes\"][\"USD\"][\"price\"]\r\n",
    "\r\n",
    "# Fetch current ETH price\r\n",
    "eth_url_response = requests.get(eth_url).json()\r\n",
    "eth_price = eth_url_response[\"data\"][\"1027\"][\"quotes\"][\"USD\"][\"price\"]\r\n",
    "\r\n",
    "# Compute current value of my crpto\r\n",
    "my_btc_value = my_btc * btc_price\r\n",
    "my_eth_value = my_eth * eth_price\r\n",
    "\r\n",
    "# Print current crypto wallet balance\r\n",
    "print(f\"The current value of your {my_btc} BTC is ${my_btc_value:0.2f}\")\r\n",
    "print(f\"The current value of your {my_eth} ETH is ${my_eth_value:0.2f}\")"
   ],
   "outputs": [
    {
     "output_type": "stream",
     "name": "stdout",
     "text": [
      "The current value of your 1.2 BTC is $39243.60\n",
      "The current value of your 5.3 ETH is $10990.93\n"
     ]
    }
   ],
   "metadata": {}
  },
  {
   "cell_type": "markdown",
   "source": [
    "### Collect Investments Data Using Alpaca: `SPY` (stocks) and `AGG` (bonds)"
   ],
   "metadata": {}
  },
  {
   "cell_type": "code",
   "execution_count": 7,
   "source": [
    "# Current amount of shares\r\n",
    "my_agg = 200\r\n",
    "my_spy = 50"
   ],
   "outputs": [],
   "metadata": {}
  },
  {
   "cell_type": "code",
   "execution_count": 8,
   "source": [
    "# Set Alpaca API key and secret\r\n",
    "alpaca_api_key = os.getenv(\"ALPACA_API_KEY\")\r\n",
    "alpaca_secret_key = os.getenv(\"ALPACA_SECRET_KEY\")\r\n",
    "\r\n",
    "# Create the Alpaca API object\r\n",
    "alpaca = tradeapi.REST(alpaca_api_key, alpaca_secret_key, api_version = \"v2\")"
   ],
   "outputs": [],
   "metadata": {}
  },
  {
   "cell_type": "code",
   "execution_count": 9,
   "source": [
    "# Format current date as ISO format\r\n",
    "today = pd.Timestamp(\"2021-06-22\", tz=\"America/New_York\").isoformat()\r\n",
    "\r\n",
    "# Set the tickers\r\n",
    "tickers = [\"AGG\", \"SPY\"]\r\n",
    "\r\n",
    "# Set timeframe to '1D' for Alpaca API\r\n",
    "timeframe = \"1D\"\r\n",
    "\r\n",
    "# Get current closing prices for SPY and AGG for the past 800 days\r\n",
    "current_portfoilo = alpaca.get_barset(tickers, timeframe, end=today, limit=800).df\r\n",
    "current_portfoilo = current_portfoilo.sort_index(ascending=False)\r\n",
    "\r\n",
    "# Preview DataFrame\r\n",
    "current_portfoilo.head(5)\r\n",
    "#current_portfoilo.tail(5)"
   ],
   "outputs": [
    {
     "output_type": "execute_result",
     "data": {
      "text/plain": [
       "                               AGG                                        \\\n",
       "                              open      high      low   close     volume   \n",
       "time                                                                       \n",
       "2021-06-22 00:00:00-04:00  114.830  115.1400  114.830  115.11  5299846.0   \n",
       "2021-06-21 00:00:00-04:00  115.060  115.1200  114.921  114.96  4934966.0   \n",
       "2021-06-18 00:00:00-04:00  115.050  115.3900  114.910  115.29  5438261.0   \n",
       "2021-06-17 00:00:00-04:00  114.792  115.2500  114.785  114.99  7417691.0   \n",
       "2021-06-16 00:00:00-04:00  115.070  115.1285  114.510  114.63  7527672.0   \n",
       "\n",
       "                              SPY                                        \n",
       "                             open      high     low   close      volume  \n",
       "time                                                                     \n",
       "2021-06-22 00:00:00-04:00  420.85  424.0000  420.08  423.06  50857233.0  \n",
       "2021-06-21 00:00:00-04:00  416.80  421.0600  415.93  420.85  63727942.0  \n",
       "2021-06-18 00:00:00-04:00  417.08  417.8281  414.70  415.01  92753385.0  \n",
       "2021-06-17 00:00:00-04:00  421.67  423.0200  419.32  421.97  71991686.0  \n",
       "2021-06-16 00:00:00-04:00  424.63  424.8700  419.92  422.12  73638324.0  "
      ],
      "text/html": [
       "<div>\n",
       "<style scoped>\n",
       "    .dataframe tbody tr th:only-of-type {\n",
       "        vertical-align: middle;\n",
       "    }\n",
       "\n",
       "    .dataframe tbody tr th {\n",
       "        vertical-align: top;\n",
       "    }\n",
       "\n",
       "    .dataframe thead tr th {\n",
       "        text-align: left;\n",
       "    }\n",
       "\n",
       "    .dataframe thead tr:last-of-type th {\n",
       "        text-align: right;\n",
       "    }\n",
       "</style>\n",
       "<table border=\"1\" class=\"dataframe\">\n",
       "  <thead>\n",
       "    <tr>\n",
       "      <th></th>\n",
       "      <th colspan=\"5\" halign=\"left\">AGG</th>\n",
       "      <th colspan=\"5\" halign=\"left\">SPY</th>\n",
       "    </tr>\n",
       "    <tr>\n",
       "      <th></th>\n",
       "      <th>open</th>\n",
       "      <th>high</th>\n",
       "      <th>low</th>\n",
       "      <th>close</th>\n",
       "      <th>volume</th>\n",
       "      <th>open</th>\n",
       "      <th>high</th>\n",
       "      <th>low</th>\n",
       "      <th>close</th>\n",
       "      <th>volume</th>\n",
       "    </tr>\n",
       "    <tr>\n",
       "      <th>time</th>\n",
       "      <th></th>\n",
       "      <th></th>\n",
       "      <th></th>\n",
       "      <th></th>\n",
       "      <th></th>\n",
       "      <th></th>\n",
       "      <th></th>\n",
       "      <th></th>\n",
       "      <th></th>\n",
       "      <th></th>\n",
       "    </tr>\n",
       "  </thead>\n",
       "  <tbody>\n",
       "    <tr>\n",
       "      <th>2021-06-22 00:00:00-04:00</th>\n",
       "      <td>114.830</td>\n",
       "      <td>115.1400</td>\n",
       "      <td>114.830</td>\n",
       "      <td>115.11</td>\n",
       "      <td>5299846.0</td>\n",
       "      <td>420.85</td>\n",
       "      <td>424.0000</td>\n",
       "      <td>420.08</td>\n",
       "      <td>423.06</td>\n",
       "      <td>50857233.0</td>\n",
       "    </tr>\n",
       "    <tr>\n",
       "      <th>2021-06-21 00:00:00-04:00</th>\n",
       "      <td>115.060</td>\n",
       "      <td>115.1200</td>\n",
       "      <td>114.921</td>\n",
       "      <td>114.96</td>\n",
       "      <td>4934966.0</td>\n",
       "      <td>416.80</td>\n",
       "      <td>421.0600</td>\n",
       "      <td>415.93</td>\n",
       "      <td>420.85</td>\n",
       "      <td>63727942.0</td>\n",
       "    </tr>\n",
       "    <tr>\n",
       "      <th>2021-06-18 00:00:00-04:00</th>\n",
       "      <td>115.050</td>\n",
       "      <td>115.3900</td>\n",
       "      <td>114.910</td>\n",
       "      <td>115.29</td>\n",
       "      <td>5438261.0</td>\n",
       "      <td>417.08</td>\n",
       "      <td>417.8281</td>\n",
       "      <td>414.70</td>\n",
       "      <td>415.01</td>\n",
       "      <td>92753385.0</td>\n",
       "    </tr>\n",
       "    <tr>\n",
       "      <th>2021-06-17 00:00:00-04:00</th>\n",
       "      <td>114.792</td>\n",
       "      <td>115.2500</td>\n",
       "      <td>114.785</td>\n",
       "      <td>114.99</td>\n",
       "      <td>7417691.0</td>\n",
       "      <td>421.67</td>\n",
       "      <td>423.0200</td>\n",
       "      <td>419.32</td>\n",
       "      <td>421.97</td>\n",
       "      <td>71991686.0</td>\n",
       "    </tr>\n",
       "    <tr>\n",
       "      <th>2021-06-16 00:00:00-04:00</th>\n",
       "      <td>115.070</td>\n",
       "      <td>115.1285</td>\n",
       "      <td>114.510</td>\n",
       "      <td>114.63</td>\n",
       "      <td>7527672.0</td>\n",
       "      <td>424.63</td>\n",
       "      <td>424.8700</td>\n",
       "      <td>419.92</td>\n",
       "      <td>422.12</td>\n",
       "      <td>73638324.0</td>\n",
       "    </tr>\n",
       "  </tbody>\n",
       "</table>\n",
       "</div>"
      ]
     },
     "metadata": {},
     "execution_count": 9
    }
   ],
   "metadata": {}
  },
  {
   "cell_type": "code",
   "execution_count": 10,
   "source": [
    "# Pick AGG and SPY close prices\r\n",
    "agg_close_price = current_portfoilo[\"AGG\"][\"close\"][0]\r\n",
    "spy_close_price = current_portfoilo[\"SPY\"][\"close\"][0]\r\n",
    "\r\n",
    "# Print AGG and SPY close prices\r\n",
    "print(f\"Current AGG closing price: ${agg_close_price}\")\r\n",
    "print(f\"Current SPY closing price: ${spy_close_price}\")"
   ],
   "outputs": [
    {
     "output_type": "stream",
     "name": "stdout",
     "text": [
      "Current AGG closing price: $115.11\n",
      "Current SPY closing price: $423.06\n"
     ]
    }
   ],
   "metadata": {}
  },
  {
   "cell_type": "code",
   "execution_count": 11,
   "source": [
    "# Compute the current value of shares\r\n",
    "my_agg_value = my_agg * agg_close_price\r\n",
    "my_spy_value = my_spy * spy_close_price\r\n",
    "\r\n",
    "# Print current value of share\r\n",
    "print(f\"The current value of your {my_spy} SPY shares is ${my_spy_value:0.2f}\")\r\n",
    "print(f\"The current value of your {my_agg} AGG shares is ${my_agg_value:0.2f}\")"
   ],
   "outputs": [
    {
     "output_type": "stream",
     "name": "stdout",
     "text": [
      "The current value of your 50 SPY shares is $21153.00\n",
      "The current value of your 200 AGG shares is $23022.00\n"
     ]
    }
   ],
   "metadata": {}
  },
  {
   "cell_type": "markdown",
   "source": [
    "### Savings Health Analysis"
   ],
   "metadata": {}
  },
  {
   "cell_type": "code",
   "execution_count": 12,
   "source": [
    "# Set monthly household income\r\n",
    "monthly_income = 12000\r\n",
    "\r\n",
    "# Create savings DataFrame\r\n",
    "# calculate the total crypto and share values\r\n",
    "total_crypto = my_btc_value + my_eth_value\r\n",
    "total_shares = my_agg_value + my_spy_value\r\n",
    "savings = {\"amount\" : [total_crypto,total_shares]}\r\n",
    "# Create dataframe df_savings\r\n",
    "df_savings = pd.DataFrame(savings, index=[\"crypto\", \"shares\"])\r\n",
    "# Display savings DataFrame\r\n",
    "display(df_savings)"
   ],
   "outputs": [
    {
     "output_type": "display_data",
     "data": {
      "text/plain": [
       "           amount\n",
       "crypto  50234.528\n",
       "shares  44175.000"
      ],
      "text/html": [
       "<div>\n",
       "<style scoped>\n",
       "    .dataframe tbody tr th:only-of-type {\n",
       "        vertical-align: middle;\n",
       "    }\n",
       "\n",
       "    .dataframe tbody tr th {\n",
       "        vertical-align: top;\n",
       "    }\n",
       "\n",
       "    .dataframe thead th {\n",
       "        text-align: right;\n",
       "    }\n",
       "</style>\n",
       "<table border=\"1\" class=\"dataframe\">\n",
       "  <thead>\n",
       "    <tr style=\"text-align: right;\">\n",
       "      <th></th>\n",
       "      <th>amount</th>\n",
       "    </tr>\n",
       "  </thead>\n",
       "  <tbody>\n",
       "    <tr>\n",
       "      <th>crypto</th>\n",
       "      <td>50234.528</td>\n",
       "    </tr>\n",
       "    <tr>\n",
       "      <th>shares</th>\n",
       "      <td>44175.000</td>\n",
       "    </tr>\n",
       "  </tbody>\n",
       "</table>\n",
       "</div>"
      ]
     },
     "metadata": {}
    }
   ],
   "metadata": {}
  },
  {
   "cell_type": "code",
   "execution_count": 13,
   "source": [
    "# Plot savings pie chart\r\n",
    "\r\n",
    "df_savings.plot.pie(y=\"amount\", title=\"Composition of Personal Savings\")"
   ],
   "outputs": [
    {
     "output_type": "execute_result",
     "data": {
      "text/plain": [
       "<AxesSubplot:title={'center':'Composition of Personal Savings'}, ylabel='amount'>"
      ]
     },
     "metadata": {},
     "execution_count": 13
    },
    {
     "output_type": "display_data",
     "data": {
      "text/plain": [
       "<Figure size 432x288 with 1 Axes>"
      ],
      "image/png": "[encoded data removed]"
     },
     "metadata": {}
    }
   ],
   "metadata": {}
  },
  {
   "cell_type": "code",
   "execution_count": null,
   "source": [
    "# Set ideal emergency fund\r\n",
    "emergency_fund = monthly_income * 3\r\n",
    "\r\n",
    "# Calculate total amount of savings\r\n",
    "total_savings = total_crypto + total_shares\r\n",
    "\r\n",
    "total_savings\r\n",
    "\r\n",
    "# Validate saving health\r\n",
    "if emergency_fund < total_savings:\r\n",
    "        print(\" Congratulations! You have enough money in your emergency fund.\")\r\n",
    "elif emergency_fund == total_savings:\r\n",
    "        print(\" Congratulations! You have reached this financial goal\")\r\n",
    "else:\r\n",
    "        print(f\"Oh No! You are {emergency_fund - total_savings} dollars away from reaching the goal\")"
   ],
   "outputs": [
    {
     "output_type": "error",
     "ename": "NameError",
     "evalue": "name 'total_sh' is not defined",
     "traceback": [
      "\u001b[1;31m---------------------------------------------------------------------------\u001b[0m",
      "\u001b[1;31mNameError\u001b[0m                                 Traceback (most recent call last)",
      "\u001b[1;32m<ipython-input-14-90aac18b8a1a>\u001b[0m in \u001b[0;36m<module>\u001b[1;34m\u001b[0m\n\u001b[0;32m      3\u001b[0m \u001b[1;33m\u001b[0m\u001b[0m\n\u001b[0;32m      4\u001b[0m \u001b[1;31m# Calculate total amount of savings\u001b[0m\u001b[1;33m\u001b[0m\u001b[1;33m\u001b[0m\u001b[1;33m\u001b[0m\u001b[0m\n\u001b[1;32m----> 5\u001b[1;33m \u001b[0mtotal_savings\u001b[0m \u001b[1;33m=\u001b[0m \u001b[0mtotal_crypto\u001b[0m \u001b[1;33m+\u001b[0m \u001b[0mtotal_sh\u001b[0m\u001b[1;33m\u001b[0m\u001b[1;33m\u001b[0m\u001b[0m\n\u001b[0m\u001b[0;32m      6\u001b[0m \u001b[1;33m\u001b[0m\u001b[0m\n\u001b[0;32m      7\u001b[0m \u001b[0mtotal_savings\u001b[0m\u001b[1;33m\u001b[0m\u001b[1;33m\u001b[0m\u001b[0m\n",
      "\u001b[1;31mNameError\u001b[0m: name 'total_sh' is not defined"
     ]
    }
   ],
   "metadata": {}
  },
  {
   "cell_type": "markdown",
   "source": [
    "## Part 2 - Retirement Planning\n",
    "\n",
    "### Monte Carlo Simulation"
   ],
   "metadata": {}
  },
  {
   "cell_type": "code",
   "execution_count": 15,
   "source": [
    "# Set start and end dates of five years back from today.\r\n",
    "# Sample results may vary from the solution based on the time frame chosen\r\n",
    "start_date = pd.Timestamp('2016-06-01', tz='America/New_York').isoformat()\r\n",
    "end_date = pd.Timestamp('2021-06-01', tz='America/New_York').isoformat()"
   ],
   "outputs": [],
   "metadata": {}
  },
  {
   "cell_type": "code",
   "execution_count": 16,
   "source": [
    "# Get 5 years' worth of historical data for SPY and AGG\r\n",
    "display(tickers)\r\n",
    "df_stock_data = alpaca.get_barset(tickers, timeframe, start=start_date, end=end_date).df\r\n",
    "\r\n",
    "# Display sample data\r\n",
    "df_stock_data.head()"
   ],
   "outputs": [
    {
     "output_type": "display_data",
     "data": {
      "text/plain": [
       "['AGG', 'SPY']"
      ]
     },
     "metadata": {}
    },
    {
     "output_type": "execute_result",
     "data": {
      "text/plain": [
       "                              AGG                                       \\\n",
       "                             open      high       low   close   volume   \n",
       "time                                                                     \n",
       "2021-01-07 00:00:00-05:00  117.13  117.2600  117.0667  117.21  4949593   \n",
       "2021-01-08 00:00:00-05:00  117.18  117.3428  116.9800  117.09  5580443   \n",
       "2021-01-11 00:00:00-05:00  117.02  117.0500  116.8900  116.89  5047096   \n",
       "2021-01-12 00:00:00-05:00  116.82  116.9900  116.6800  116.98  5103382   \n",
       "2021-01-13 00:00:00-05:00  117.63  117.6300  117.0800  117.36  5686592   \n",
       "\n",
       "                              SPY                                      \n",
       "                             open    high       low   close    volume  \n",
       "time                                                                   \n",
       "2021-01-07 00:00:00-05:00  376.10  379.90  375.9100  379.06  58862006  \n",
       "2021-01-08 00:00:00-05:00  380.59  381.49  377.1000  381.24  60275466  \n",
       "2021-01-11 00:00:00-05:00  377.85  380.58  377.7189  378.74  44814805  \n",
       "2021-01-12 00:00:00-05:00  378.89  379.86  376.3600  378.81  45364896  \n",
       "2021-01-13 00:00:00-05:00  378.69  380.86  377.8500  379.76  38355050  "
      ],
      "text/html": [
       "<div>\n",
       "<style scoped>\n",
       "    .dataframe tbody tr th:only-of-type {\n",
       "        vertical-align: middle;\n",
       "    }\n",
       "\n",
       "    .dataframe tbody tr th {\n",
       "        vertical-align: top;\n",
       "    }\n",
       "\n",
       "    .dataframe thead tr th {\n",
       "        text-align: left;\n",
       "    }\n",
       "\n",
       "    .dataframe thead tr:last-of-type th {\n",
       "        text-align: right;\n",
       "    }\n",
       "</style>\n",
       "<table border=\"1\" class=\"dataframe\">\n",
       "  <thead>\n",
       "    <tr>\n",
       "      <th></th>\n",
       "      <th colspan=\"5\" halign=\"left\">AGG</th>\n",
       "      <th colspan=\"5\" halign=\"left\">SPY</th>\n",
       "    </tr>\n",
       "    <tr>\n",
       "      <th></th>\n",
       "      <th>open</th>\n",
       "      <th>high</th>\n",
       "      <th>low</th>\n",
       "      <th>close</th>\n",
       "      <th>volume</th>\n",
       "      <th>open</th>\n",
       "      <th>high</th>\n",
       "      <th>low</th>\n",
       "      <th>close</th>\n",
       "      <th>volume</th>\n",
       "    </tr>\n",
       "    <tr>\n",
       "      <th>time</th>\n",
       "      <th></th>\n",
       "      <th></th>\n",
       "      <th></th>\n",
       "      <th></th>\n",
       "      <th></th>\n",
       "      <th></th>\n",
       "      <th></th>\n",
       "      <th></th>\n",
       "      <th></th>\n",
       "      <th></th>\n",
       "    </tr>\n",
       "  </thead>\n",
       "  <tbody>\n",
       "    <tr>\n",
       "      <th>2021-01-07 00:00:00-05:00</th>\n",
       "      <td>117.13</td>\n",
       "      <td>117.2600</td>\n",
       "      <td>117.0667</td>\n",
       "      <td>117.21</td>\n",
       "      <td>4949593</td>\n",
       "      <td>376.10</td>\n",
       "      <td>379.90</td>\n",
       "      <td>375.9100</td>\n",
       "      <td>379.06</td>\n",
       "      <td>58862006</td>\n",
       "    </tr>\n",
       "    <tr>\n",
       "      <th>2021-01-08 00:00:00-05:00</th>\n",
       "      <td>117.18</td>\n",
       "      <td>117.3428</td>\n",
       "      <td>116.9800</td>\n",
       "      <td>117.09</td>\n",
       "      <td>5580443</td>\n",
       "      <td>380.59</td>\n",
       "      <td>381.49</td>\n",
       "      <td>377.1000</td>\n",
       "      <td>381.24</td>\n",
       "      <td>60275466</td>\n",
       "    </tr>\n",
       "    <tr>\n",
       "      <th>2021-01-11 00:00:00-05:00</th>\n",
       "      <td>117.02</td>\n",
       "      <td>117.0500</td>\n",
       "      <td>116.8900</td>\n",
       "      <td>116.89</td>\n",
       "      <td>5047096</td>\n",
       "      <td>377.85</td>\n",
       "      <td>380.58</td>\n",
       "      <td>377.7189</td>\n",
       "      <td>378.74</td>\n",
       "      <td>44814805</td>\n",
       "    </tr>\n",
       "    <tr>\n",
       "      <th>2021-01-12 00:00:00-05:00</th>\n",
       "      <td>116.82</td>\n",
       "      <td>116.9900</td>\n",
       "      <td>116.6800</td>\n",
       "      <td>116.98</td>\n",
       "      <td>5103382</td>\n",
       "      <td>378.89</td>\n",
       "      <td>379.86</td>\n",
       "      <td>376.3600</td>\n",
       "      <td>378.81</td>\n",
       "      <td>45364896</td>\n",
       "    </tr>\n",
       "    <tr>\n",
       "      <th>2021-01-13 00:00:00-05:00</th>\n",
       "      <td>117.63</td>\n",
       "      <td>117.6300</td>\n",
       "      <td>117.0800</td>\n",
       "      <td>117.36</td>\n",
       "      <td>5686592</td>\n",
       "      <td>378.69</td>\n",
       "      <td>380.86</td>\n",
       "      <td>377.8500</td>\n",
       "      <td>379.76</td>\n",
       "      <td>38355050</td>\n",
       "    </tr>\n",
       "  </tbody>\n",
       "</table>\n",
       "</div>"
      ]
     },
     "metadata": {},
     "execution_count": 16
    }
   ],
   "metadata": {}
  },
  {
   "cell_type": "code",
   "execution_count": 17,
   "source": [
    "# Configuring a Monte Carlo simulation to forecast 30 years cumulative returns\r\n",
    "montecarlo_30 = MCSimulation(portfolio_data = df_stock_data, weights = [.40,.60], num_simulation = 500, num_trading_days = 252*30)"
   ],
   "outputs": [],
   "metadata": {}
  },
  {
   "cell_type": "code",
   "execution_count": 18,
   "source": [
    "# Printing the simulation input data\r\n",
    "montecarlo_30.portfolio_data.head()"
   ],
   "outputs": [
    {
     "output_type": "execute_result",
     "data": {
      "text/plain": [
       "                              AGG                                       \\\n",
       "                             open      high       low   close   volume   \n",
       "time                                                                     \n",
       "2021-01-07 00:00:00-05:00  117.13  117.2600  117.0667  117.21  4949593   \n",
       "2021-01-08 00:00:00-05:00  117.18  117.3428  116.9800  117.09  5580443   \n",
       "2021-01-11 00:00:00-05:00  117.02  117.0500  116.8900  116.89  5047096   \n",
       "2021-01-12 00:00:00-05:00  116.82  116.9900  116.6800  116.98  5103382   \n",
       "2021-01-13 00:00:00-05:00  117.63  117.6300  117.0800  117.36  5686592   \n",
       "\n",
       "                                           SPY                            \\\n",
       "                          daily_return    open    high       low   close   \n",
       "time                                                                       \n",
       "2021-01-07 00:00:00-05:00          NaN  376.10  379.90  375.9100  379.06   \n",
       "2021-01-08 00:00:00-05:00    -0.001024  380.59  381.49  377.1000  381.24   \n",
       "2021-01-11 00:00:00-05:00    -0.001708  377.85  380.58  377.7189  378.74   \n",
       "2021-01-12 00:00:00-05:00     0.000770  378.89  379.86  376.3600  378.81   \n",
       "2021-01-13 00:00:00-05:00     0.003248  378.69  380.86  377.8500  379.76   \n",
       "\n",
       "                                                  \n",
       "                             volume daily_return  \n",
       "time                                              \n",
       "2021-01-07 00:00:00-05:00  58862006          NaN  \n",
       "2021-01-08 00:00:00-05:00  60275466     0.005751  \n",
       "2021-01-11 00:00:00-05:00  44814805    -0.006558  \n",
       "2021-01-12 00:00:00-05:00  45364896     0.000185  \n",
       "2021-01-13 00:00:00-05:00  38355050     0.002508  "
      ],
      "text/html": [
       "<div>\n",
       "<style scoped>\n",
       "    .dataframe tbody tr th:only-of-type {\n",
       "        vertical-align: middle;\n",
       "    }\n",
       "\n",
       "    .dataframe tbody tr th {\n",
       "        vertical-align: top;\n",
       "    }\n",
       "\n",
       "    .dataframe thead tr th {\n",
       "        text-align: left;\n",
       "    }\n",
       "\n",
       "    .dataframe thead tr:last-of-type th {\n",
       "        text-align: right;\n",
       "    }\n",
       "</style>\n",
       "<table border=\"1\" class=\"dataframe\">\n",
       "  <thead>\n",
       "    <tr>\n",
       "      <th></th>\n",
       "      <th colspan=\"6\" halign=\"left\">AGG</th>\n",
       "      <th colspan=\"6\" halign=\"left\">SPY</th>\n",
       "    </tr>\n",
       "    <tr>\n",
       "      <th></th>\n",
       "      <th>open</th>\n",
       "      <th>high</th>\n",
       "      <th>low</th>\n",
       "      <th>close</th>\n",
       "      <th>volume</th>\n",
       "      <th>daily_return</th>\n",
       "      <th>open</th>\n",
       "      <th>high</th>\n",
       "      <th>low</th>\n",
       "      <th>close</th>\n",
       "      <th>volume</th>\n",
       "      <th>daily_return</th>\n",
       "    </tr>\n",
       "    <tr>\n",
       "      <th>time</th>\n",
       "      <th></th>\n",
       "      <th></th>\n",
       "      <th></th>\n",
       "      <th></th>\n",
       "      <th></th>\n",
       "      <th></th>\n",
       "      <th></th>\n",
       "      <th></th>\n",
       "      <th></th>\n",
       "      <th></th>\n",
       "      <th></th>\n",
       "      <th></th>\n",
       "    </tr>\n",
       "  </thead>\n",
       "  <tbody>\n",
       "    <tr>\n",
       "      <th>2021-01-07 00:00:00-05:00</th>\n",
       "      <td>117.13</td>\n",
       "      <td>117.2600</td>\n",
       "      <td>117.0667</td>\n",
       "      <td>117.21</td>\n",
       "      <td>4949593</td>\n",
       "      <td>NaN</td>\n",
       "      <td>376.10</td>\n",
       "      <td>379.90</td>\n",
       "      <td>375.9100</td>\n",
       "      <td>379.06</td>\n",
       "      <td>58862006</td>\n",
       "      <td>NaN</td>\n",
       "    </tr>\n",
       "    <tr>\n",
       "      <th>2021-01-08 00:00:00-05:00</th>\n",
       "      <td>117.18</td>\n",
       "      <td>117.3428</td>\n",
       "      <td>116.9800</td>\n",
       "      <td>117.09</td>\n",
       "      <td>5580443</td>\n",
       "      <td>-0.001024</td>\n",
       "      <td>380.59</td>\n",
       "      <td>381.49</td>\n",
       "      <td>377.1000</td>\n",
       "      <td>381.24</td>\n",
       "      <td>60275466</td>\n",
       "      <td>0.005751</td>\n",
       "    </tr>\n",
       "    <tr>\n",
       "      <th>2021-01-11 00:00:00-05:00</th>\n",
       "      <td>117.02</td>\n",
       "      <td>117.0500</td>\n",
       "      <td>116.8900</td>\n",
       "      <td>116.89</td>\n",
       "      <td>5047096</td>\n",
       "      <td>-0.001708</td>\n",
       "      <td>377.85</td>\n",
       "      <td>380.58</td>\n",
       "      <td>377.7189</td>\n",
       "      <td>378.74</td>\n",
       "      <td>44814805</td>\n",
       "      <td>-0.006558</td>\n",
       "    </tr>\n",
       "    <tr>\n",
       "      <th>2021-01-12 00:00:00-05:00</th>\n",
       "      <td>116.82</td>\n",
       "      <td>116.9900</td>\n",
       "      <td>116.6800</td>\n",
       "      <td>116.98</td>\n",
       "      <td>5103382</td>\n",
       "      <td>0.000770</td>\n",
       "      <td>378.89</td>\n",
       "      <td>379.86</td>\n",
       "      <td>376.3600</td>\n",
       "      <td>378.81</td>\n",
       "      <td>45364896</td>\n",
       "      <td>0.000185</td>\n",
       "    </tr>\n",
       "    <tr>\n",
       "      <th>2021-01-13 00:00:00-05:00</th>\n",
       "      <td>117.63</td>\n",
       "      <td>117.6300</td>\n",
       "      <td>117.0800</td>\n",
       "      <td>117.36</td>\n",
       "      <td>5686592</td>\n",
       "      <td>0.003248</td>\n",
       "      <td>378.69</td>\n",
       "      <td>380.86</td>\n",
       "      <td>377.8500</td>\n",
       "      <td>379.76</td>\n",
       "      <td>38355050</td>\n",
       "      <td>0.002508</td>\n",
       "    </tr>\n",
       "  </tbody>\n",
       "</table>\n",
       "</div>"
      ]
     },
     "metadata": {},
     "execution_count": 18
    }
   ],
   "metadata": {}
  },
  {
   "cell_type": "code",
   "execution_count": 19,
   "source": [
    "# Running a Monte Carlo simulation to forecast 30 years cumulative returns\r\n",
    "m"
   ],
   "outputs": [
    {
     "output_type": "stream",
     "name": "stdout",
     "text": [
      "Running Monte Carlo simulation number 0.\n",
      "Running Monte Carlo simulation number 10.\n",
      "Running Monte Carlo simulation number 20.\n",
      "Running Monte Carlo simulation number 30.\n",
      "Running Monte Carlo simulation number 40.\n",
      "Running Monte Carlo simulation number 50.\n",
      "Running Monte Carlo simulation number 60.\n",
      "Running Monte Carlo simulation number 70.\n",
      "Running Monte Carlo simulation number 80.\n",
      "Running Monte Carlo simulation number 90.\n",
      "Running Monte Carlo simulation number 100.\n",
      "Running Monte Carlo simulation number 110.\n",
      "Running Monte Carlo simulation number 120.\n",
      "Running Monte Carlo simulation number 130.\n",
      "Running Monte Carlo simulation number 140.\n",
      "Running Monte Carlo simulation number 150.\n",
      "Running Monte Carlo simulation number 160.\n",
      "Running Monte Carlo simulation number 170.\n",
      "Running Monte Carlo simulation number 180.\n",
      "Running Monte Carlo simulation number 190.\n",
      "Running Monte Carlo simulation number 200.\n",
      "Running Monte Carlo simulation number 210.\n",
      "Running Monte Carlo simulation number 220.\n",
      "Running Monte Carlo simulation number 230.\n",
      "Running Monte Carlo simulation number 240.\n",
      "Running Monte Carlo simulation number 250.\n",
      "Running Monte Carlo simulation number 260.\n",
      "Running Monte Carlo simulation number 270.\n",
      "Running Monte Carlo simulation number 280.\n",
      "Running Monte Carlo simulation number 290.\n"
     ]
    }
   ],
   "metadata": {}
  },
  {
   "cell_type": "code",
   "execution_count": null,
   "source": [
    "montecarlo_30.calc_cumulative_return()"
   ],
   "outputs": [],
   "metadata": {}
  },
  {
   "cell_type": "code",
   "execution_count": null,
   "source": [
    "# Plot simulation outcomes\r\n",
    "montecarlo_30_plot = montecarlo_30.plot_simulation()"
   ],
   "outputs": [
    {
     "output_type": "display_data",
     "data": {
      "text/plain": [
       "<Figure size 432x288 with 1 Axes>"
      ],
      "image/png": "[encoded data removed]"
     },
     "metadata": {
      "needs_background": "light"
     }
    }
   ],
   "metadata": {}
  },
  {
   "cell_type": "code",
   "execution_count": null,
   "source": [
    "# Plot probability distribution and confidence intervals\r\n",
    "montecarlo_30_dist_plot = montecarlo_30.plot_distribution()"
   ],
   "outputs": [
    {
     "output_type": "display_data",
     "data": {
      "text/plain": [
       "<Figure size 432x288 with 1 Axes>"
      ],
      "image/png": "[encoded data removed]"
     },
     "metadata": {
      "needs_background": "light"
     }
    }
   ],
   "metadata": {}
  },
  {
   "cell_type": "markdown",
   "source": [
    "### Retirement Analysis"
   ],
   "metadata": {}
  },
  {
   "cell_type": "code",
   "execution_count": null,
   "source": [
    "# Fetch summary statistics from the Monte Carlo simulation results\r\n",
    "montecarlo_30_summary = montecarlo_30.summarize_cumulative_return()\r\n",
    "\r\n",
    "# Print summary statistics\r\n",
    "print(montecarlo_30_summary)"
   ],
   "outputs": [
    {
     "output_type": "stream",
     "name": "stdout",
     "text": [
      "count           500.000000\n",
      "mean             58.248993\n",
      "std              28.752724\n",
      "min              12.053724\n",
      "25%              38.738522\n",
      "50%              52.223942\n",
      "75%              71.288142\n",
      "max             257.684368\n",
      "95% CI Lower     20.649107\n",
      "95% CI Upper    122.426779\n",
      "Name: 7560, dtype: float64\n"
     ]
    }
   ],
   "metadata": {}
  },
  {
   "cell_type": "markdown",
   "source": [
    "### Calculate the expected portfolio return at the 95% lower and upper confidence intervals based on a `$20,000` initial investment."
   ],
   "metadata": {}
  },
  {
   "cell_type": "code",
   "execution_count": null,
   "source": [
    "# Set initial investment\r\n",
    "initial_investment = 20000\r\n",
    "\r\n",
    "# Use the lower and upper `95%` confidence intervals to calculate the range of the possible outcomes of our $20,000\r\n",
    "ci_lower = round((montecarlo_30_summary[8] * initial_investment), 2)\r\n",
    "ci_upper = round((montecarlo_30_summary[9] * initial_investment), 2) \r\n",
    "\r\n",
    "# Print results\r\n",
    "print(f\"There is a 95% chance that an initial investment of ${initial_investment} in the portfolio\"\r\n",
    "      f\" over the next 30 years will end within in the range of\"\r\n",
    "      f\" ${ci_lower} and ${ci_upper}\")"
   ],
   "outputs": [
    {
     "output_type": "stream",
     "name": "stdout",
     "text": [
      "There is a 95% chance that an initial investment of $20000 in the portfolio over the next 30 years will end within in the range of $412982.14 and $2448535.57\n"
     ]
    }
   ],
   "metadata": {}
  },
  {
   "cell_type": "markdown",
   "source": [
    "### Calculate the expected portfolio return at the `95%` lower and upper confidence intervals based on a `50%` increase in the initial investment."
   ],
   "metadata": {}
  },
  {
   "cell_type": "code",
   "execution_count": null,
   "source": [
    "# Set initial investment\r\n",
    "initial_investment = 20000 * 1.5\r\n",
    "\r\n",
    "# Use the lower and upper `95%` confidence intervals to calculate the range of the possible outcomes of our $30,000\r\n",
    "ci_lower = round((montecarlo_30_summary[8] * initial_investment), 2)\r\n",
    "ci_upper = round((montecarlo_30_summary[9] * initial_investment), 2)\r\n",
    "\r\n",
    "# Print results\r\n",
    "print(f\"There is a 95% chance that an initial investment of ${initial_investment} in the portfolio\"\r\n",
    "      f\" over the next 30 years will end within in the range of\"\r\n",
    "      f\" ${ci_lower} and ${ci_upper}\")"
   ],
   "outputs": [
    {
     "output_type": "stream",
     "name": "stdout",
     "text": [
      "There is a 95% chance that an initial investment of $30000.0 in the portfolio over the next 30 years will end within in the range of $619473.21 and $3672803.36\n"
     ]
    }
   ],
   "metadata": {}
  },
  {
   "cell_type": "markdown",
   "source": [
    "## Optional Challenge - Early Retirement\n",
    "\n",
    "\n",
    "### Five Years Retirement Option"
   ],
   "metadata": {}
  },
  {
   "cell_type": "code",
   "execution_count": null,
   "source": [
    "# Configuring a Monte Carlo simulation to forecast 5 years cumulative returns\r\n",
    "# YOUR CODE HERE!"
   ],
   "outputs": [],
   "metadata": {}
  },
  {
   "cell_type": "code",
   "execution_count": null,
   "source": [
    "# Running a Monte Carlo simulation to forecast 5 years cumulative returns\r\n",
    "# YOUR CODE HERE!"
   ],
   "outputs": [],
   "metadata": {}
  },
  {
   "cell_type": "code",
   "execution_count": null,
   "source": [
    "# Plot simulation outcomes\r\n",
    "# YOUR CODE HERE!"
   ],
   "outputs": [],
   "metadata": {}
  },
  {
   "cell_type": "code",
   "execution_count": 28,
   "source": [
    "# Plot probability distribution and confidence intervals\r\n",
    "# YOUR CODE HERE!"
   ],
   "outputs": [],
   "metadata": {}
  },
  {
   "cell_type": "code",
   "execution_count": 29,
   "source": [
    "# Fetch summary statistics from the Monte Carlo simulation results\r\n",
    "# YOUR CODE HERE!\r\n",
    "\r\n",
    "# Print summary statistics\r\n",
    "# YOUR CODE HERE!"
   ],
   "outputs": [],
   "metadata": {}
  },
  {
   "cell_type": "code",
   "execution_count": 30,
   "source": [
    "# Set initial investment\r\n",
    "# YOUR CODE HERE!\r\n",
    "\r\n",
    "# Use the lower and upper `95%` confidence intervals to calculate the range of the possible outcomes of our $60,000\r\n",
    "# YOUR CODE HERE!\r\n",
    "\r\n",
    "# Print results\r\n",
    "print(f\"There is a 95% chance that an initial investment of ${initial_investment} in the portfolio\"\r\n",
    "      f\" over the next 5 years will end within in the range of\"\r\n",
    "      f\" ${ci_lower_five} and ${ci_upper_five}\")"
   ],
   "outputs": [
    {
     "output_type": "error",
     "ename": "NameError",
     "evalue": "name 'ci_lower_five' is not defined",
     "traceback": [
      "\u001b[1;31m---------------------------------------------------------------------------\u001b[0m",
      "\u001b[1;31mNameError\u001b[0m                                 Traceback (most recent call last)",
      "\u001b[1;32m<ipython-input-30-d56b774f48d0>\u001b[0m in \u001b[0;36m<module>\u001b[1;34m\u001b[0m\n\u001b[0;32m      6\u001b[0m \u001b[1;33m\u001b[0m\u001b[0m\n\u001b[0;32m      7\u001b[0m \u001b[1;31m# Print results\u001b[0m\u001b[1;33m\u001b[0m\u001b[1;33m\u001b[0m\u001b[1;33m\u001b[0m\u001b[0m\n\u001b[1;32m----> 8\u001b[1;33m print(f\"There is a 95% chance that an initial investment of ${initial_investment} in the portfolio\"\n\u001b[0m\u001b[0;32m      9\u001b[0m       \u001b[1;34mf\" over the next 5 years will end within in the range of\"\u001b[0m\u001b[1;33m\u001b[0m\u001b[1;33m\u001b[0m\u001b[0m\n\u001b[0;32m     10\u001b[0m       f\" ${ci_lower_five} and ${ci_upper_five}\")\n",
      "\u001b[1;31mNameError\u001b[0m: name 'ci_lower_five' is not defined"
     ]
    }
   ],
   "metadata": {}
  },
  {
   "cell_type": "markdown",
   "source": [
    "### Ten Years Retirement Option"
   ],
   "metadata": {}
  },
  {
   "cell_type": "code",
   "execution_count": null,
   "source": [
    "# Configuring a Monte Carlo simulation to forecast 10 years cumulative returns\r\n",
    "# YOUR CODE HERE!"
   ],
   "outputs": [],
   "metadata": {}
  },
  {
   "cell_type": "code",
   "execution_count": null,
   "source": [
    "# Running a Monte Carlo simulation to forecast 10 years cumulative returns\r\n",
    "# YOUR CODE HERE!"
   ],
   "outputs": [],
   "metadata": {}
  },
  {
   "cell_type": "code",
   "execution_count": null,
   "source": [
    "# Plot simulation outcomes\r\n",
    "# YOUR CODE HERE!"
   ],
   "outputs": [],
   "metadata": {}
  },
  {
   "cell_type": "code",
   "execution_count": null,
   "source": [
    "# Plot probability distribution and confidence intervals\r\n",
    "# YOUR CODE HERE!"
   ],
   "outputs": [],
   "metadata": {}
  },
  {
   "cell_type": "code",
   "execution_count": null,
   "source": [
    "# Fetch summary statistics from the Monte Carlo simulation results\r\n",
    "# YOUR CODE HERE!\r\n",
    "\r\n",
    "# Print summary statistics\r\n",
    "# YOUR CODE HERE!"
   ],
   "outputs": [],
   "metadata": {}
  },
  {
   "cell_type": "code",
   "execution_count": null,
   "source": [
    "# Set initial investment\r\n",
    "# YOUR CODE HERE!\r\n",
    "\r\n",
    "# Use the lower and upper `95%` confidence intervals to calculate the range of the possible outcomes of our $60,000\r\n",
    "# YOUR CODE HERE!\r\n",
    "\r\n",
    "# Print results\r\n",
    "print(f\"There is a 95% chance that an initial investment of ${initial_investment} in the portfolio\"\r\n",
    "      f\" over the next 10 years will end within in the range of\"\r\n",
    "      f\" ${ci_lower_ten} and ${ci_upper_ten}\")"
   ],
   "outputs": [],
   "metadata": {}
  }
 ],
 "metadata": {
  "interpreter": {
   "hash": "ceb917bc4ec5d1ec370cd0bd1655421d31331b4e9197e72ac91608292e39f7a5"
  },
  "kernelspec": {
   "name": "python3",
   "display_name": "Python 3.7.10 64-bit ('alpacaenv': conda)"
  },
  "language_info": {
   "codemirror_mode": {
    "name": "ipython",
    "version": 3
   },
   "file_extension": ".py",
   "mimetype": "text/x-python",
   "name": "python",
   "nbconvert_exporter": "python",
   "pygments_lexer": "ipython3",
   "version": "3.7.10"
  }
 },
 "nbformat": 4,
 "nbformat_minor": 4
}